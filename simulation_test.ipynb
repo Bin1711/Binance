{
 "cells": [
  {
   "cell_type": "code",
   "execution_count": 1,
   "metadata": {},
   "outputs": [
    {
     "name": "stdout",
     "output_type": "stream",
     "text": [
      "Your browser has been opened to visit:\n",
      "\n",
      "    https://accounts.google.com/o/oauth2/auth?client_id=695704595703-kho1v4q5lhtoqq268ckb4it0n08facat.apps.googleusercontent.com&redirect_uri=http%3A%2F%2Flocalhost%3A8080%2F&scope=https%3A%2F%2Fwww.googleapis.com%2Fauth%2Fdrive&access_type=offline&response_type=code\n",
      "\n",
      "Authentication successful.\n"
     ]
    }
   ],
   "source": [
    "import numpy as np\n",
    "import pandas as pd\n",
    "import matplotlib.pyplot as plt\n",
    "import get_data\n",
    "import statsmodels\n",
    "from simulate import simulatedata"
   ]
  },
  {
   "cell_type": "code",
   "execution_count": 2,
   "metadata": {},
   "outputs": [],
   "source": [
    "%load_ext autoreload\n",
    "%autoreload 2"
   ]
  },
  {
   "cell_type": "code",
   "execution_count": 3,
   "metadata": {},
   "outputs": [],
   "source": [
    "syms = ['BTCUSDT']\n",
    "freq = '5min'\n",
    "start_date = '2019-01-01'\n",
    "end_date = '2021-01-01'"
   ]
  },
  {
   "cell_type": "code",
   "execution_count": 4,
   "metadata": {},
   "outputs": [
    {
     "data": {
      "text/plain": [
       "{'BTCUSDT':                                open      high       low     close      volume  \\\n",
       " time                                                                            \n",
       " 2019-01-01 00:00:00+00:00   3701.23   3703.72   3695.00   3696.32   85.572181   \n",
       " 2019-01-01 00:05:00+00:00   3696.30   3697.24   3689.88   3692.34   62.296581   \n",
       " 2019-01-01 00:10:00+00:00   3692.34   3698.93   3692.34   3697.31   43.105333   \n",
       " 2019-01-01 00:15:00+00:00   3697.91   3698.75   3693.00   3693.00   48.551084   \n",
       " 2019-01-01 00:20:00+00:00   3693.44   3695.98   3690.92   3692.18   47.706443   \n",
       " ...                             ...       ...       ...       ...         ...   \n",
       " 2021-01-01 23:35:00+00:00  29323.75  29328.00  29304.38  29320.00   70.838993   \n",
       " 2021-01-01 23:40:00+00:00  29320.00  29325.89  29276.56  29276.80   89.994839   \n",
       " 2021-01-01 23:45:00+00:00  29276.80  29294.87  29252.60  29277.35   73.290144   \n",
       " 2021-01-01 23:50:00+00:00  29277.35  29314.72  29277.34  29300.21   79.583118   \n",
       " 2021-01-01 23:55:00+00:00  29300.39  29338.89  29300.38  29331.69  107.232024   \n",
       " \n",
       "                                    VWAP  \n",
       " time                                     \n",
       " 2019-01-01 00:00:00+00:00   3698.073413  \n",
       " 2019-01-01 00:05:00+00:00   3692.223488  \n",
       " 2019-01-01 00:10:00+00:00   3696.945002  \n",
       " 2019-01-01 00:15:00+00:00   3695.337795  \n",
       " 2019-01-01 00:20:00+00:00   3692.605534  \n",
       " ...                                 ...  \n",
       " 2021-01-01 23:35:00+00:00  29319.304734  \n",
       " 2021-01-01 23:40:00+00:00  29298.205264  \n",
       " 2021-01-01 23:45:00+00:00  29272.350757  \n",
       " 2021-01-01 23:50:00+00:00  29295.057233  \n",
       " 2021-01-01 23:55:00+00:00  29322.264611  \n",
       " \n",
       " [210191 rows x 6 columns]}"
      ]
     },
     "execution_count": 4,
     "metadata": {},
     "output_type": "execute_result"
    }
   ],
   "source": [
    "raw_data = get_data.get_data(syms, freq, start_date, end_date)\n",
    "raw_data"
   ]
  },
  {
   "cell_type": "code",
   "execution_count": 5,
   "metadata": {},
   "outputs": [
    {
     "data": {
      "text/html": [
       "<div>\n",
       "<style scoped>\n",
       "    .dataframe tbody tr th:only-of-type {\n",
       "        vertical-align: middle;\n",
       "    }\n",
       "\n",
       "    .dataframe tbody tr th {\n",
       "        vertical-align: top;\n",
       "    }\n",
       "\n",
       "    .dataframe thead th {\n",
       "        text-align: right;\n",
       "    }\n",
       "</style>\n",
       "<table border=\"1\" class=\"dataframe\">\n",
       "  <thead>\n",
       "    <tr style=\"text-align: right;\">\n",
       "      <th></th>\n",
       "      <th>close</th>\n",
       "      <th>ret</th>\n",
       "    </tr>\n",
       "    <tr>\n",
       "      <th>time</th>\n",
       "      <th></th>\n",
       "      <th></th>\n",
       "    </tr>\n",
       "  </thead>\n",
       "  <tbody>\n",
       "    <tr>\n",
       "      <th>2019-01-01 00:00:00+00:00</th>\n",
       "      <td>3696.32</td>\n",
       "      <td>NaN</td>\n",
       "    </tr>\n",
       "    <tr>\n",
       "      <th>2019-01-01 00:05:00+00:00</th>\n",
       "      <td>3692.34</td>\n",
       "      <td>-0.001077</td>\n",
       "    </tr>\n",
       "    <tr>\n",
       "      <th>2019-01-01 00:10:00+00:00</th>\n",
       "      <td>3697.31</td>\n",
       "      <td>0.001346</td>\n",
       "    </tr>\n",
       "    <tr>\n",
       "      <th>2019-01-01 00:15:00+00:00</th>\n",
       "      <td>3693.00</td>\n",
       "      <td>-0.001166</td>\n",
       "    </tr>\n",
       "    <tr>\n",
       "      <th>2019-01-01 00:20:00+00:00</th>\n",
       "      <td>3692.18</td>\n",
       "      <td>-0.000222</td>\n",
       "    </tr>\n",
       "    <tr>\n",
       "      <th>...</th>\n",
       "      <td>...</td>\n",
       "      <td>...</td>\n",
       "    </tr>\n",
       "    <tr>\n",
       "      <th>2021-01-01 23:35:00+00:00</th>\n",
       "      <td>29320.00</td>\n",
       "      <td>-0.000128</td>\n",
       "    </tr>\n",
       "    <tr>\n",
       "      <th>2021-01-01 23:40:00+00:00</th>\n",
       "      <td>29276.80</td>\n",
       "      <td>-0.001473</td>\n",
       "    </tr>\n",
       "    <tr>\n",
       "      <th>2021-01-01 23:45:00+00:00</th>\n",
       "      <td>29277.35</td>\n",
       "      <td>0.000019</td>\n",
       "    </tr>\n",
       "    <tr>\n",
       "      <th>2021-01-01 23:50:00+00:00</th>\n",
       "      <td>29300.21</td>\n",
       "      <td>0.000781</td>\n",
       "    </tr>\n",
       "    <tr>\n",
       "      <th>2021-01-01 23:55:00+00:00</th>\n",
       "      <td>29331.69</td>\n",
       "      <td>0.001074</td>\n",
       "    </tr>\n",
       "  </tbody>\n",
       "</table>\n",
       "<p>210191 rows × 2 columns</p>\n",
       "</div>"
      ],
      "text/plain": [
       "                              close       ret\n",
       "time                                         \n",
       "2019-01-01 00:00:00+00:00   3696.32       NaN\n",
       "2019-01-01 00:05:00+00:00   3692.34 -0.001077\n",
       "2019-01-01 00:10:00+00:00   3697.31  0.001346\n",
       "2019-01-01 00:15:00+00:00   3693.00 -0.001166\n",
       "2019-01-01 00:20:00+00:00   3692.18 -0.000222\n",
       "...                             ...       ...\n",
       "2021-01-01 23:35:00+00:00  29320.00 -0.000128\n",
       "2021-01-01 23:40:00+00:00  29276.80 -0.001473\n",
       "2021-01-01 23:45:00+00:00  29277.35  0.000019\n",
       "2021-01-01 23:50:00+00:00  29300.21  0.000781\n",
       "2021-01-01 23:55:00+00:00  29331.69  0.001074\n",
       "\n",
       "[210191 rows x 2 columns]"
      ]
     },
     "execution_count": 5,
     "metadata": {},
     "output_type": "execute_result"
    }
   ],
   "source": [
    "dt = pd.DataFrame()\n",
    "dt['close'] = raw_data['BTCUSDT']['close']\n",
    "dt['ret'] = raw_data['BTCUSDT']['close'].pct_change()\n",
    "dt"
   ]
  },
  {
   "cell_type": "code",
   "execution_count": null,
   "metadata": {},
   "outputs": [
    {
     "name": "stderr",
     "output_type": "stream",
     "text": [
      "C:\\ProgramData\\Anaconda3\\lib\\site-packages\\pmdarima\\arima\\_validation.py:76: UserWarning: stepwise model cannot be fit in parallel (n_jobs=1). Falling back to stepwise parameter search.\n",
      "  warnings.warn('stepwise model cannot be fit in parallel (n_jobs=%i). '\n"
     ]
    }
   ],
   "source": [
    "order, seasonal_order = simulatedata.get_order(dt)\n",
    "order, seasonal_order"
   ]
  },
  {
   "cell_type": "code",
   "execution_count": null,
   "metadata": {},
   "outputs": [],
   "source": [
    "model_params = simulatedata.fit_sarima(dt['ret'][1:], order, seasonal_order)"
   ]
  },
  {
   "cell_type": "code",
   "execution_count": null,
   "metadata": {
    "scrolled": false
   },
   "outputs": [],
   "source": [
    "t = simulatedata.simulate_sarima(dt['ret'][1:], order, seasonal_order, model_params, 2000)\n",
    "t"
   ]
  },
  {
   "cell_type": "code",
   "execution_count": null,
   "metadata": {},
   "outputs": [],
   "source": [
    "simulated_price_data = simulatedata.construct_price_series(t, dt['close'][0], dt.index[0], freq)"
   ]
  },
  {
   "cell_type": "code",
   "execution_count": null,
   "metadata": {},
   "outputs": [],
   "source": [
    "simulatedata.Evaluate_performance(dt['close'], simulated_price_data, lags=30)"
   ]
  }
 ],
 "metadata": {
  "kernelspec": {
   "display_name": "Python 3 (ipykernel)",
   "language": "python",
   "name": "python3"
  },
  "language_info": {
   "codemirror_mode": {
    "name": "ipython",
    "version": 3
   },
   "file_extension": ".py",
   "mimetype": "text/x-python",
   "name": "python",
   "nbconvert_exporter": "python",
   "pygments_lexer": "ipython3",
   "version": "3.8.12"
  }
 },
 "nbformat": 4,
 "nbformat_minor": 2
}
