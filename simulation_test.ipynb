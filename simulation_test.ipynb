{
 "cells": [
  {
   "cell_type": "code",
   "execution_count": 32,
   "metadata": {},
   "outputs": [],
   "source": [
    "import numpy as np\n",
    "import pandas as pd\n",
    "import matplotlib.pyplot as plt\n",
    "import get_data\n",
    "import statsmodels\n",
    "from simulate import cholesky\n",
    "from simulate import simulatedata\n",
    "from simulate import simulate_multiple_time_series"
   ]
  },
  {
   "cell_type": "code",
   "execution_count": 27,
   "metadata": {},
   "outputs": [
    {
     "name": "stdout",
     "output_type": "stream",
     "text": [
      "The autoreload extension is already loaded. To reload it, use:\n",
      "  %reload_ext autoreload\n"
     ]
    }
   ],
   "source": [
    "%load_ext autoreload\n",
    "%autoreload 2"
   ]
  },
  {
   "cell_type": "code",
   "execution_count": 28,
   "metadata": {},
   "outputs": [],
   "source": [
    "syms = ['BTCUSDT']\n",
    "freq = '10min'\n",
    "start_date = '2020-01-01'\n",
    "end_date = '2020-01-03'"
   ]
  },
  {
   "cell_type": "code",
   "execution_count": 29,
   "metadata": {},
   "outputs": [
    {
     "name": "stdout",
     "output_type": "stream",
     "text": [
      "BTCUSDT_2019-12-26.json\n",
      "BTCUSDT_2020-01-02.json\n"
     ]
    },
    {
     "name": "stderr",
     "output_type": "stream",
     "text": [
      "e:\\trade\\crypto\\Binance\\get_data.py:52: FutureWarning: Indexing a timezone-aware DatetimeIndex with a timezone-naive datetime is deprecated and will raise KeyError in a future version.  Use a timezone-aware object instead.\n",
      "  data[symbol] = _fit_data_to_df(data[symbol], frequency)[start_time:end_time]\n"
     ]
    },
    {
     "data": {
      "text/plain": [
       "{'BTCUSDT':                               open     high      low    close      volume  \\\n",
       " time                                                                        \n",
       " 2020-01-01 00:00:00+00:00  7195.24  7196.25  7178.20  7191.07  154.874358   \n",
       " 2020-01-01 00:10:00+00:00  7193.15  7193.53  7177.35  7178.29   80.261439   \n",
       " 2020-01-01 00:20:00+00:00  7177.71  7185.56  7175.47  7178.45   96.049725   \n",
       " 2020-01-01 00:30:00+00:00  7178.19  7185.44  7176.23  7177.53   59.973326   \n",
       " 2020-01-01 00:40:00+00:00  7177.14  7182.99  7176.34  7182.94   44.872982   \n",
       " ...                            ...      ...      ...      ...         ...   \n",
       " 2020-01-02 23:20:00+00:00  6959.16  6962.39  6950.00  6962.34  217.262815   \n",
       " 2020-01-02 23:30:00+00:00  6962.47  6974.75  6957.66  6965.37  145.757951   \n",
       " 2020-01-02 23:40:00+00:00  6965.09  6969.46  6959.87  6967.41   75.157310   \n",
       " 2020-01-02 23:50:00+00:00  6967.40  6968.82  6961.24  6965.71   82.459841   \n",
       " 2020-01-03 00:00:00+00:00  6965.49  6965.71  6948.45  6963.38  180.492276   \n",
       " \n",
       "                                   VWAP  \n",
       " time                                    \n",
       " 2020-01-01 00:00:00+00:00  7185.131532  \n",
       " 2020-01-01 00:10:00+00:00  7183.130112  \n",
       " 2020-01-01 00:20:00+00:00  7179.184768  \n",
       " 2020-01-01 00:30:00+00:00  7181.326228  \n",
       " 2020-01-01 00:40:00+00:00  7181.218046  \n",
       " ...                                ...  \n",
       " 2020-01-02 23:20:00+00:00  6956.932068  \n",
       " 2020-01-02 23:30:00+00:00  6967.519428  \n",
       " 2020-01-02 23:40:00+00:00  6963.849599  \n",
       " 2020-01-02 23:50:00+00:00  6965.270329  \n",
       " 2020-01-03 00:00:00+00:00  6956.339162  \n",
       " \n",
       " [289 rows x 6 columns]}"
      ]
     },
     "execution_count": 29,
     "metadata": {},
     "output_type": "execute_result"
    }
   ],
   "source": [
    "raw_data = get_data.get_data(syms, freq, start_date, end_date)\n",
    "raw_data"
   ]
  },
  {
   "cell_type": "code",
   "execution_count": 30,
   "metadata": {},
   "outputs": [
    {
     "data": {
      "text/plain": [
       "close         7202.090000\n",
       "high          7211.160000\n",
       "low           7201.580000\n",
       "open          7211.040000\n",
       "close-open       0.998759\n",
       "Name: 2020-01-02 01:00:00+00:00, dtype: float64"
      ]
     },
     "execution_count": 30,
     "metadata": {},
     "output_type": "execute_result"
    }
   ],
   "source": [
    "dt = pd.DataFrame()\n",
    "dt['close'] = raw_data['BTCUSDT']['close']\n",
    "dt['high'] = raw_data['BTCUSDT']['high']\n",
    "dt['low'] = raw_data['BTCUSDT']['low']\n",
    "dt['open'] = raw_data['BTCUSDT']['open']\n",
    "dt['close-open'] = raw_data['BTCUSDT']['close']/raw_data['BTCUSDT']['open']\n",
    "dt.iloc[150]"
   ]
  },
  {
   "cell_type": "code",
   "execution_count": 7,
   "metadata": {},
   "outputs": [
    {
     "data": {
      "text/html": [
       "<div>\n",
       "<style scoped>\n",
       "    .dataframe tbody tr th:only-of-type {\n",
       "        vertical-align: middle;\n",
       "    }\n",
       "\n",
       "    .dataframe tbody tr th {\n",
       "        vertical-align: top;\n",
       "    }\n",
       "\n",
       "    .dataframe thead th {\n",
       "        text-align: right;\n",
       "    }\n",
       "</style>\n",
       "<table border=\"1\" class=\"dataframe\">\n",
       "  <thead>\n",
       "    <tr style=\"text-align: right;\">\n",
       "      <th></th>\n",
       "      <th>open</th>\n",
       "      <th>close</th>\n",
       "    </tr>\n",
       "    <tr>\n",
       "      <th>time</th>\n",
       "      <th></th>\n",
       "      <th></th>\n",
       "    </tr>\n",
       "  </thead>\n",
       "  <tbody>\n",
       "    <tr>\n",
       "      <th>2020-01-01 00:00:00+00:00</th>\n",
       "      <td>NaN</td>\n",
       "      <td>NaN</td>\n",
       "    </tr>\n",
       "    <tr>\n",
       "      <th>2020-01-01 00:10:00+00:00</th>\n",
       "      <td>-0.000290</td>\n",
       "      <td>-0.001487</td>\n",
       "    </tr>\n",
       "    <tr>\n",
       "      <th>2020-01-01 00:20:00+00:00</th>\n",
       "      <td>-0.002146</td>\n",
       "      <td>0.002173</td>\n",
       "    </tr>\n",
       "    <tr>\n",
       "      <th>2020-01-01 00:30:00+00:00</th>\n",
       "      <td>0.000067</td>\n",
       "      <td>-0.000195</td>\n",
       "    </tr>\n",
       "    <tr>\n",
       "      <th>2020-01-01 00:40:00+00:00</th>\n",
       "      <td>-0.000146</td>\n",
       "      <td>0.000900</td>\n",
       "    </tr>\n",
       "    <tr>\n",
       "      <th>...</th>\n",
       "      <td>...</td>\n",
       "      <td>...</td>\n",
       "    </tr>\n",
       "    <tr>\n",
       "      <th>2020-01-02 23:20:00+00:00</th>\n",
       "      <td>-0.001664</td>\n",
       "      <td>0.002125</td>\n",
       "    </tr>\n",
       "    <tr>\n",
       "      <th>2020-01-02 23:30:00+00:00</th>\n",
       "      <td>0.000476</td>\n",
       "      <td>-0.000040</td>\n",
       "    </tr>\n",
       "    <tr>\n",
       "      <th>2020-01-02 23:40:00+00:00</th>\n",
       "      <td>0.000376</td>\n",
       "      <td>-0.000083</td>\n",
       "    </tr>\n",
       "    <tr>\n",
       "      <th>2020-01-02 23:50:00+00:00</th>\n",
       "      <td>0.000332</td>\n",
       "      <td>-0.000575</td>\n",
       "    </tr>\n",
       "    <tr>\n",
       "      <th>2020-01-03 00:00:00+00:00</th>\n",
       "      <td>-0.000274</td>\n",
       "      <td>-0.000060</td>\n",
       "    </tr>\n",
       "  </tbody>\n",
       "</table>\n",
       "<p>289 rows × 2 columns</p>\n",
       "</div>"
      ],
      "text/plain": [
       "                               open     close\n",
       "time                                         \n",
       "2020-01-01 00:00:00+00:00       NaN       NaN\n",
       "2020-01-01 00:10:00+00:00 -0.000290 -0.001487\n",
       "2020-01-01 00:20:00+00:00 -0.002146  0.002173\n",
       "2020-01-01 00:30:00+00:00  0.000067 -0.000195\n",
       "2020-01-01 00:40:00+00:00 -0.000146  0.000900\n",
       "...                             ...       ...\n",
       "2020-01-02 23:20:00+00:00 -0.001664  0.002125\n",
       "2020-01-02 23:30:00+00:00  0.000476 -0.000040\n",
       "2020-01-02 23:40:00+00:00  0.000376 -0.000083\n",
       "2020-01-02 23:50:00+00:00  0.000332 -0.000575\n",
       "2020-01-03 00:00:00+00:00 -0.000274 -0.000060\n",
       "\n",
       "[289 rows x 2 columns]"
      ]
     },
     "execution_count": 7,
     "metadata": {},
     "output_type": "execute_result"
    }
   ],
   "source": [
    "dt1 = pd.DataFrame()\n",
    "dt1['open'] = dt['open'].pct_change()\n",
    "dt1['close'] = dt['close-open'].pct_change()\n",
    "dt1"
   ]
  },
  {
   "cell_type": "code",
   "execution_count": 8,
   "metadata": {
    "scrolled": false
   },
   "outputs": [
    {
     "data": {
      "text/html": [
       "<div>\n",
       "<style scoped>\n",
       "    .dataframe tbody tr th:only-of-type {\n",
       "        vertical-align: middle;\n",
       "    }\n",
       "\n",
       "    .dataframe tbody tr th {\n",
       "        vertical-align: top;\n",
       "    }\n",
       "\n",
       "    .dataframe thead th {\n",
       "        text-align: right;\n",
       "    }\n",
       "</style>\n",
       "<table border=\"1\" class=\"dataframe\">\n",
       "  <thead>\n",
       "    <tr style=\"text-align: right;\">\n",
       "      <th></th>\n",
       "      <th>open</th>\n",
       "      <th>close</th>\n",
       "    </tr>\n",
       "    <tr>\n",
       "      <th>time</th>\n",
       "      <th></th>\n",
       "      <th></th>\n",
       "    </tr>\n",
       "  </thead>\n",
       "  <tbody>\n",
       "    <tr>\n",
       "      <th>2020-01-01 00:00:00+00:00</th>\n",
       "      <td>NaN</td>\n",
       "      <td>NaN</td>\n",
       "    </tr>\n",
       "    <tr>\n",
       "      <th>2020-01-01 00:10:00+00:00</th>\n",
       "      <td>-0.127426</td>\n",
       "      <td>-0.730574</td>\n",
       "    </tr>\n",
       "    <tr>\n",
       "      <th>2020-01-01 00:20:00+00:00</th>\n",
       "      <td>-1.450286</td>\n",
       "      <td>0.911047</td>\n",
       "    </tr>\n",
       "    <tr>\n",
       "      <th>2020-01-01 00:30:00+00:00</th>\n",
       "      <td>0.127268</td>\n",
       "      <td>-0.083660</td>\n",
       "    </tr>\n",
       "    <tr>\n",
       "      <th>2020-01-01 00:40:00+00:00</th>\n",
       "      <td>-0.024653</td>\n",
       "      <td>0.430266</td>\n",
       "    </tr>\n",
       "    <tr>\n",
       "      <th>...</th>\n",
       "      <td>...</td>\n",
       "      <td>...</td>\n",
       "    </tr>\n",
       "    <tr>\n",
       "      <th>2020-01-02 23:20:00+00:00</th>\n",
       "      <td>-1.106465</td>\n",
       "      <td>0.919618</td>\n",
       "    </tr>\n",
       "    <tr>\n",
       "      <th>2020-01-02 23:30:00+00:00</th>\n",
       "      <td>0.418607</td>\n",
       "      <td>0.018125</td>\n",
       "    </tr>\n",
       "    <tr>\n",
       "      <th>2020-01-02 23:40:00+00:00</th>\n",
       "      <td>0.347811</td>\n",
       "      <td>-0.009218</td>\n",
       "    </tr>\n",
       "    <tr>\n",
       "      <th>2020-01-02 23:50:00+00:00</th>\n",
       "      <td>0.315988</td>\n",
       "      <td>-0.249479</td>\n",
       "    </tr>\n",
       "    <tr>\n",
       "      <th>2020-01-03 00:00:00+00:00</th>\n",
       "      <td>-0.115783</td>\n",
       "      <td>-0.041446</td>\n",
       "    </tr>\n",
       "  </tbody>\n",
       "</table>\n",
       "<p>289 rows × 2 columns</p>\n",
       "</div>"
      ],
      "text/plain": [
       "                               open     close\n",
       "time                                         \n",
       "2020-01-01 00:00:00+00:00       NaN       NaN\n",
       "2020-01-01 00:10:00+00:00 -0.127426 -0.730574\n",
       "2020-01-01 00:20:00+00:00 -1.450286  0.911047\n",
       "2020-01-01 00:30:00+00:00  0.127268 -0.083660\n",
       "2020-01-01 00:40:00+00:00 -0.024653  0.430266\n",
       "...                             ...       ...\n",
       "2020-01-02 23:20:00+00:00 -1.106465  0.919618\n",
       "2020-01-02 23:30:00+00:00  0.418607  0.018125\n",
       "2020-01-02 23:40:00+00:00  0.347811 -0.009218\n",
       "2020-01-02 23:50:00+00:00  0.315988 -0.249479\n",
       "2020-01-03 00:00:00+00:00 -0.115783 -0.041446\n",
       "\n",
       "[289 rows x 2 columns]"
      ]
     },
     "execution_count": 8,
     "metadata": {},
     "output_type": "execute_result"
    }
   ],
   "source": [
    "var_close = simulate_multiple_time_series.compute_std(dt1['close'])\n",
    "mean_close = dt1['close'].mean()\n",
    "var_open = simulate_multiple_time_series.compute_std(dt1['open'])\n",
    "mean_open = dt1['open'].mean()\n",
    "chol = cholesky.cholesky2(dt)\n",
    "inverse_chol = np.linalg.inv(chol)\n",
    "transform= simulate_multiple_time_series.transform_forward(dt1, inverse_chol)\n",
    "transform"
   ]
  },
  {
   "cell_type": "code",
   "execution_count": 10,
   "metadata": {},
   "outputs": [
    {
     "data": {
      "text/plain": [
       "((1, 0, 2), (0, 0, 0, 1), (2, 0, 0), (0, 0, 0, 1))"
      ]
     },
     "execution_count": 10,
     "metadata": {},
     "output_type": "execute_result"
    }
   ],
   "source": [
    "order_close, seasonal_order_close = simulatedata.get_order(transform['close'][1:])\n",
    "order_open, seasonal_order_open = simulatedata.get_order(transform['open'][1:])\n",
    "order_close, seasonal_order_close, order_open, seasonal_order_open"
   ]
  },
  {
   "cell_type": "code",
   "execution_count": 11,
   "metadata": {},
   "outputs": [],
   "source": [
    "if sum(seasonal_order_close) == 1: seasonal_order_close = (0, 0, 0, 0)\n",
    "model_params_close = simulatedata.fit_sarima(transform['close'][1:], order_close, seasonal_order_close)\n",
    "if sum(seasonal_order_open) == 1: seasonal_order_open = (0, 0, 0, 0)\n",
    "model_params_open = simulatedata.fit_sarima(transform['open'][1:], order_open, seasonal_order_open)"
   ]
  },
  {
   "cell_type": "code",
   "execution_count": 12,
   "metadata": {},
   "outputs": [
    {
     "data": {
      "text/html": [
       "<div>\n",
       "<style scoped>\n",
       "    .dataframe tbody tr th:only-of-type {\n",
       "        vertical-align: middle;\n",
       "    }\n",
       "\n",
       "    .dataframe tbody tr th {\n",
       "        vertical-align: top;\n",
       "    }\n",
       "\n",
       "    .dataframe thead th {\n",
       "        text-align: right;\n",
       "    }\n",
       "</style>\n",
       "<table border=\"1\" class=\"dataframe\">\n",
       "  <thead>\n",
       "    <tr style=\"text-align: right;\">\n",
       "      <th></th>\n",
       "      <th>0</th>\n",
       "    </tr>\n",
       "  </thead>\n",
       "  <tbody>\n",
       "    <tr>\n",
       "      <th>0</th>\n",
       "      <td>0.440205</td>\n",
       "    </tr>\n",
       "    <tr>\n",
       "      <th>1</th>\n",
       "      <td>-0.562573</td>\n",
       "    </tr>\n",
       "    <tr>\n",
       "      <th>2</th>\n",
       "      <td>0.552087</td>\n",
       "    </tr>\n",
       "    <tr>\n",
       "      <th>3</th>\n",
       "      <td>-0.026885</td>\n",
       "    </tr>\n",
       "    <tr>\n",
       "      <th>4</th>\n",
       "      <td>1.534314</td>\n",
       "    </tr>\n",
       "    <tr>\n",
       "      <th>...</th>\n",
       "      <td>...</td>\n",
       "    </tr>\n",
       "    <tr>\n",
       "      <th>284</th>\n",
       "      <td>-0.143524</td>\n",
       "    </tr>\n",
       "    <tr>\n",
       "      <th>285</th>\n",
       "      <td>1.532714</td>\n",
       "    </tr>\n",
       "    <tr>\n",
       "      <th>286</th>\n",
       "      <td>-0.698809</td>\n",
       "    </tr>\n",
       "    <tr>\n",
       "      <th>287</th>\n",
       "      <td>-0.045988</td>\n",
       "    </tr>\n",
       "    <tr>\n",
       "      <th>288</th>\n",
       "      <td>-0.631210</td>\n",
       "    </tr>\n",
       "  </tbody>\n",
       "</table>\n",
       "<p>289 rows × 1 columns</p>\n",
       "</div>"
      ],
      "text/plain": [
       "            0\n",
       "0    0.440205\n",
       "1   -0.562573\n",
       "2    0.552087\n",
       "3   -0.026885\n",
       "4    1.534314\n",
       "..        ...\n",
       "284 -0.143524\n",
       "285  1.532714\n",
       "286 -0.698809\n",
       "287 -0.045988\n",
       "288 -0.631210\n",
       "\n",
       "[289 rows x 1 columns]"
      ]
     },
     "execution_count": 12,
     "metadata": {},
     "output_type": "execute_result"
    }
   ],
   "source": [
    "t_close = simulatedata.simulate_sarima(transform['close'][1:], order_close, seasonal_order_close, model_params_close, len(dt1), 1)\n",
    "t_open = simulatedata.simulate_sarima(transform['open'][1:], order_open, seasonal_order_open, model_params_open, len(dt1), 1)\n",
    "t_open"
   ]
  },
  {
   "cell_type": "code",
   "execution_count": 13,
   "metadata": {},
   "outputs": [
    {
     "data": {
      "text/html": [
       "<div>\n",
       "<style scoped>\n",
       "    .dataframe tbody tr th:only-of-type {\n",
       "        vertical-align: middle;\n",
       "    }\n",
       "\n",
       "    .dataframe tbody tr th {\n",
       "        vertical-align: top;\n",
       "    }\n",
       "\n",
       "    .dataframe thead th {\n",
       "        text-align: right;\n",
       "    }\n",
       "</style>\n",
       "<table border=\"1\" class=\"dataframe\">\n",
       "  <thead>\n",
       "    <tr style=\"text-align: right;\">\n",
       "      <th></th>\n",
       "      <th>open</th>\n",
       "      <th>close</th>\n",
       "    </tr>\n",
       "  </thead>\n",
       "  <tbody>\n",
       "    <tr>\n",
       "      <th>0</th>\n",
       "      <td>0.000506</td>\n",
       "      <td>0.000541</td>\n",
       "    </tr>\n",
       "    <tr>\n",
       "      <th>1</th>\n",
       "      <td>-0.000901</td>\n",
       "      <td>0.000375</td>\n",
       "    </tr>\n",
       "    <tr>\n",
       "      <th>2</th>\n",
       "      <td>0.000663</td>\n",
       "      <td>-0.000515</td>\n",
       "    </tr>\n",
       "    <tr>\n",
       "      <th>3</th>\n",
       "      <td>-0.000149</td>\n",
       "      <td>-0.002046</td>\n",
       "    </tr>\n",
       "    <tr>\n",
       "      <th>4</th>\n",
       "      <td>0.002041</td>\n",
       "      <td>0.000348</td>\n",
       "    </tr>\n",
       "    <tr>\n",
       "      <th>...</th>\n",
       "      <td>...</td>\n",
       "      <td>...</td>\n",
       "    </tr>\n",
       "    <tr>\n",
       "      <th>284</th>\n",
       "      <td>-0.000313</td>\n",
       "      <td>-0.000933</td>\n",
       "    </tr>\n",
       "    <tr>\n",
       "      <th>285</th>\n",
       "      <td>0.002039</td>\n",
       "      <td>-0.000014</td>\n",
       "    </tr>\n",
       "    <tr>\n",
       "      <th>286</th>\n",
       "      <td>-0.001092</td>\n",
       "      <td>0.001229</td>\n",
       "    </tr>\n",
       "    <tr>\n",
       "      <th>287</th>\n",
       "      <td>-0.000176</td>\n",
       "      <td>0.001008</td>\n",
       "    </tr>\n",
       "    <tr>\n",
       "      <th>288</th>\n",
       "      <td>-0.000997</td>\n",
       "      <td>-0.002672</td>\n",
       "    </tr>\n",
       "  </tbody>\n",
       "</table>\n",
       "<p>289 rows × 2 columns</p>\n",
       "</div>"
      ],
      "text/plain": [
       "         open     close\n",
       "0    0.000506  0.000541\n",
       "1   -0.000901  0.000375\n",
       "2    0.000663 -0.000515\n",
       "3   -0.000149 -0.002046\n",
       "4    0.002041  0.000348\n",
       "..        ...       ...\n",
       "284 -0.000313 -0.000933\n",
       "285  0.002039 -0.000014\n",
       "286 -0.001092  0.001229\n",
       "287 -0.000176  0.001008\n",
       "288 -0.000997 -0.002672\n",
       "\n",
       "[289 rows x 2 columns]"
      ]
     },
     "execution_count": 13,
     "metadata": {},
     "output_type": "execute_result"
    }
   ],
   "source": [
    "transform_x_chol = pd.DataFrame()\n",
    "transform_x_chol['close'] = t_close[0]\n",
    "transform_x_chol['open'] = t_open[0]\n",
    "transform_back = simulate_multiple_time_series.transform_back(transform_x_chol, chol, var_close, mean_close, var_open, mean_open)\n",
    "transform_back"
   ]
  },
  {
   "cell_type": "code",
   "execution_count": 14,
   "metadata": {},
   "outputs": [
    {
     "data": {
      "text/html": [
       "<div>\n",
       "<style scoped>\n",
       "    .dataframe tbody tr th:only-of-type {\n",
       "        vertical-align: middle;\n",
       "    }\n",
       "\n",
       "    .dataframe tbody tr th {\n",
       "        vertical-align: top;\n",
       "    }\n",
       "\n",
       "    .dataframe thead th {\n",
       "        text-align: right;\n",
       "    }\n",
       "</style>\n",
       "<table border=\"1\" class=\"dataframe\">\n",
       "  <thead>\n",
       "    <tr style=\"text-align: right;\">\n",
       "      <th></th>\n",
       "      <th>open</th>\n",
       "      <th>close</th>\n",
       "    </tr>\n",
       "  </thead>\n",
       "  <tbody>\n",
       "    <tr>\n",
       "      <th>open</th>\n",
       "      <td>1.000000</td>\n",
       "      <td>-0.118275</td>\n",
       "    </tr>\n",
       "    <tr>\n",
       "      <th>close</th>\n",
       "      <td>-0.118275</td>\n",
       "      <td>1.000000</td>\n",
       "    </tr>\n",
       "  </tbody>\n",
       "</table>\n",
       "</div>"
      ],
      "text/plain": [
       "           open     close\n",
       "open   1.000000 -0.118275\n",
       "close -0.118275  1.000000"
      ]
     },
     "execution_count": 14,
     "metadata": {},
     "output_type": "execute_result"
    }
   ],
   "source": [
    "transform_back.corr()"
   ]
  },
  {
   "cell_type": "code",
   "execution_count": 15,
   "metadata": {},
   "outputs": [
    {
     "data": {
      "text/html": [
       "<div>\n",
       "<style scoped>\n",
       "    .dataframe tbody tr th:only-of-type {\n",
       "        vertical-align: middle;\n",
       "    }\n",
       "\n",
       "    .dataframe tbody tr th {\n",
       "        vertical-align: top;\n",
       "    }\n",
       "\n",
       "    .dataframe thead th {\n",
       "        text-align: right;\n",
       "    }\n",
       "</style>\n",
       "<table border=\"1\" class=\"dataframe\">\n",
       "  <thead>\n",
       "    <tr style=\"text-align: right;\">\n",
       "      <th></th>\n",
       "      <th>open</th>\n",
       "      <th>close</th>\n",
       "    </tr>\n",
       "  </thead>\n",
       "  <tbody>\n",
       "    <tr>\n",
       "      <th>open</th>\n",
       "      <td>1.00000</td>\n",
       "      <td>-0.73857</td>\n",
       "    </tr>\n",
       "    <tr>\n",
       "      <th>close</th>\n",
       "      <td>-0.73857</td>\n",
       "      <td>1.00000</td>\n",
       "    </tr>\n",
       "  </tbody>\n",
       "</table>\n",
       "</div>"
      ],
      "text/plain": [
       "          open    close\n",
       "open   1.00000 -0.73857\n",
       "close -0.73857  1.00000"
      ]
     },
     "execution_count": 15,
     "metadata": {},
     "output_type": "execute_result"
    }
   ],
   "source": [
    "dt1.corr()"
   ]
  },
  {
   "cell_type": "code",
   "execution_count": 17,
   "metadata": {},
   "outputs": [
    {
     "data": {
      "text/html": [
       "<div>\n",
       "<style scoped>\n",
       "    .dataframe tbody tr th:only-of-type {\n",
       "        vertical-align: middle;\n",
       "    }\n",
       "\n",
       "    .dataframe tbody tr th {\n",
       "        vertical-align: top;\n",
       "    }\n",
       "\n",
       "    .dataframe thead th {\n",
       "        text-align: right;\n",
       "    }\n",
       "</style>\n",
       "<table border=\"1\" class=\"dataframe\">\n",
       "  <thead>\n",
       "    <tr style=\"text-align: right;\">\n",
       "      <th></th>\n",
       "      <th>0</th>\n",
       "      <th>1</th>\n",
       "    </tr>\n",
       "  </thead>\n",
       "  <tbody>\n",
       "    <tr>\n",
       "      <th>2020-01-01 00:00:00+00:00</th>\n",
       "      <td>7195.240000</td>\n",
       "      <td>7191.070000</td>\n",
       "    </tr>\n",
       "    <tr>\n",
       "      <th>2020-01-01 00:10:00+00:00</th>\n",
       "      <td>7198.880326</td>\n",
       "      <td>7198.599945</td>\n",
       "    </tr>\n",
       "    <tr>\n",
       "      <th>2020-01-01 00:20:00+00:00</th>\n",
       "      <td>7192.394166</td>\n",
       "      <td>7194.810524</td>\n",
       "    </tr>\n",
       "    <tr>\n",
       "      <th>2020-01-01 00:30:00+00:00</th>\n",
       "      <td>7197.162069</td>\n",
       "      <td>7195.873630</td>\n",
       "    </tr>\n",
       "    <tr>\n",
       "      <th>2020-01-01 00:40:00+00:00</th>\n",
       "      <td>7196.086758</td>\n",
       "      <td>7180.080219</td>\n",
       "    </tr>\n",
       "    <tr>\n",
       "      <th>...</th>\n",
       "      <td>...</td>\n",
       "      <td>...</td>\n",
       "    </tr>\n",
       "    <tr>\n",
       "      <th>2020-01-02 23:20:00+00:00</th>\n",
       "      <td>6957.657726</td>\n",
       "      <td>6956.771191</td>\n",
       "    </tr>\n",
       "    <tr>\n",
       "      <th>2020-01-02 23:30:00+00:00</th>\n",
       "      <td>6955.479592</td>\n",
       "      <td>6948.103301</td>\n",
       "    </tr>\n",
       "    <tr>\n",
       "      <th>2020-01-02 23:40:00+00:00</th>\n",
       "      <td>6969.660157</td>\n",
       "      <td>6962.172982</td>\n",
       "    </tr>\n",
       "    <tr>\n",
       "      <th>2020-01-02 23:50:00+00:00</th>\n",
       "      <td>6962.048322</td>\n",
       "      <td>6963.119596</td>\n",
       "    </tr>\n",
       "    <tr>\n",
       "      <th>2020-01-03 00:00:00+00:00</th>\n",
       "      <td>6960.821537</td>\n",
       "      <td>6968.912919</td>\n",
       "    </tr>\n",
       "  </tbody>\n",
       "</table>\n",
       "<p>289 rows × 2 columns</p>\n",
       "</div>"
      ],
      "text/plain": [
       "                                     0            1\n",
       "2020-01-01 00:00:00+00:00  7195.240000  7191.070000\n",
       "2020-01-01 00:10:00+00:00  7198.880326  7198.599945\n",
       "2020-01-01 00:20:00+00:00  7192.394166  7194.810524\n",
       "2020-01-01 00:30:00+00:00  7197.162069  7195.873630\n",
       "2020-01-01 00:40:00+00:00  7196.086758  7180.080219\n",
       "...                                ...          ...\n",
       "2020-01-02 23:20:00+00:00  6957.657726  6956.771191\n",
       "2020-01-02 23:30:00+00:00  6955.479592  6948.103301\n",
       "2020-01-02 23:40:00+00:00  6969.660157  6962.172982\n",
       "2020-01-02 23:50:00+00:00  6962.048322  6963.119596\n",
       "2020-01-03 00:00:00+00:00  6960.821537  6968.912919\n",
       "\n",
       "[289 rows x 2 columns]"
      ]
     },
     "execution_count": 17,
     "metadata": {},
     "output_type": "execute_result"
    }
   ],
   "source": [
    "simulated_price_data = pd.DataFrame()\n",
    "simulated_price_data[0] = simulatedata.construct_price_series(transform_back['open'], dt['open'][0], dt.index[0], freq)\n",
    "simulated_price_data[1] = simulatedata.construct_price_series(transform_back['close'], dt['close-open'][0], dt.index[0], freq)\n",
    "for i in range(len(simulated_price_data[1])):\n",
    "    simulated_price_data[1][i]=simulated_price_data[1][i] * simulated_price_data[0][i]\n",
    "simulated_price_data"
   ]
  },
  {
   "cell_type": "code",
   "execution_count": 19,
   "metadata": {},
   "outputs": [
    {
     "name": "stderr",
     "output_type": "stream",
     "text": [
      "C:\\Users\\Admin\\AppData\\Local\\Programs\\Python\\Python39\\lib\\site-packages\\statsmodels\\graphics\\tsaplots.py:348: FutureWarning: The default method 'yw' can produce PACF values outside of the [-1,1] interval. After 0.13, the default will change tounadjusted Yule-Walker ('ywm'). You can use this method now by setting method='ywm'.\n",
      "  warnings.warn(\n",
      "C:\\Users\\Admin\\AppData\\Local\\Programs\\Python\\Python39\\lib\\site-packages\\statsmodels\\graphics\\tsaplots.py:348: FutureWarning: The default method 'yw' can produce PACF values outside of the [-1,1] interval. After 0.13, the default will change tounadjusted Yule-Walker ('ywm'). You can use this method now by setting method='ywm'.\n",
      "  warnings.warn(\n",
      "C:\\Users\\Admin\\AppData\\Local\\Programs\\Python\\Python39\\lib\\site-packages\\statsmodels\\graphics\\tsaplots.py:348: FutureWarning: The default method 'yw' can produce PACF values outside of the [-1,1] interval. After 0.13, the default will change tounadjusted Yule-Walker ('ywm'). You can use this method now by setting method='ywm'.\n",
      "  warnings.warn(\n"
     ]
    },
    {
     "data": {
      "image/png": "[encoded data removed]",
      "text/plain": [
       "<Figure size 3600x864 with 8 Axes>"
      ]
     },
     "metadata": {
      "needs_background": "light"
     },
     "output_type": "display_data"
    }
   ],
   "source": [
    "simulatedata.Evaluate_performance(dt['open'], simulated_price_data, lags=30)"
   ]
  },
  {
   "cell_type": "code",
   "execution_count": 33,
   "metadata": {},
   "outputs": [
    {
     "data": {
      "text/html": [
       "<div>\n",
       "<style scoped>\n",
       "    .dataframe tbody tr th:only-of-type {\n",
       "        vertical-align: middle;\n",
       "    }\n",
       "\n",
       "    .dataframe tbody tr th {\n",
       "        vertical-align: top;\n",
       "    }\n",
       "\n",
       "    .dataframe thead th {\n",
       "        text-align: right;\n",
       "    }\n",
       "</style>\n",
       "<table border=\"1\" class=\"dataframe\">\n",
       "  <thead>\n",
       "    <tr style=\"text-align: right;\">\n",
       "      <th></th>\n",
       "      <th>close</th>\n",
       "      <th>open</th>\n",
       "    </tr>\n",
       "  </thead>\n",
       "  <tbody>\n",
       "    <tr>\n",
       "      <th>2020-01-01 00:00:00+00:00</th>\n",
       "      <td>7191.070000</td>\n",
       "      <td>7195.240000</td>\n",
       "    </tr>\n",
       "    <tr>\n",
       "      <th>2020-01-01 00:00:00.000000001+00:00</th>\n",
       "      <td>7192.708302</td>\n",
       "      <td>7206.530454</td>\n",
       "    </tr>\n",
       "    <tr>\n",
       "      <th>2020-01-01 00:00:00.000000002+00:00</th>\n",
       "      <td>7192.979230</td>\n",
       "      <td>7216.448455</td>\n",
       "    </tr>\n",
       "    <tr>\n",
       "      <th>2020-01-01 00:00:00.000000003+00:00</th>\n",
       "      <td>7185.405129</td>\n",
       "      <td>7193.224678</td>\n",
       "    </tr>\n",
       "    <tr>\n",
       "      <th>2020-01-01 00:00:00.000000004+00:00</th>\n",
       "      <td>7182.624146</td>\n",
       "      <td>7208.809476</td>\n",
       "    </tr>\n",
       "    <tr>\n",
       "      <th>...</th>\n",
       "      <td>...</td>\n",
       "      <td>...</td>\n",
       "    </tr>\n",
       "    <tr>\n",
       "      <th>2020-01-01 00:00:00.000000284+00:00</th>\n",
       "      <td>6960.902873</td>\n",
       "      <td>7118.380847</td>\n",
       "    </tr>\n",
       "    <tr>\n",
       "      <th>2020-01-01 00:00:00.000000285+00:00</th>\n",
       "      <td>6958.300299</td>\n",
       "      <td>7107.526377</td>\n",
       "    </tr>\n",
       "    <tr>\n",
       "      <th>2020-01-01 00:00:00.000000286+00:00</th>\n",
       "      <td>6963.975954</td>\n",
       "      <td>7102.370383</td>\n",
       "    </tr>\n",
       "    <tr>\n",
       "      <th>2020-01-01 00:00:00.000000287+00:00</th>\n",
       "      <td>6974.528193</td>\n",
       "      <td>7098.196459</td>\n",
       "    </tr>\n",
       "    <tr>\n",
       "      <th>2020-01-01 00:00:00.000000288+00:00</th>\n",
       "      <td>6969.881232</td>\n",
       "      <td>7079.752226</td>\n",
       "    </tr>\n",
       "  </tbody>\n",
       "</table>\n",
       "<p>289 rows × 2 columns</p>\n",
       "</div>"
      ],
      "text/plain": [
       "                                           close         open\n",
       "2020-01-01 00:00:00+00:00            7191.070000  7195.240000\n",
       "2020-01-01 00:00:00.000000001+00:00  7192.708302  7206.530454\n",
       "2020-01-01 00:00:00.000000002+00:00  7192.979230  7216.448455\n",
       "2020-01-01 00:00:00.000000003+00:00  7185.405129  7193.224678\n",
       "2020-01-01 00:00:00.000000004+00:00  7182.624146  7208.809476\n",
       "...                                          ...          ...\n",
       "2020-01-01 00:00:00.000000284+00:00  6960.902873  7118.380847\n",
       "2020-01-01 00:00:00.000000285+00:00  6958.300299  7107.526377\n",
       "2020-01-01 00:00:00.000000286+00:00  6963.975954  7102.370383\n",
       "2020-01-01 00:00:00.000000287+00:00  6974.528193  7098.196459\n",
       "2020-01-01 00:00:00.000000288+00:00  6969.881232  7079.752226\n",
       "\n",
       "[289 rows x 2 columns]"
      ]
     },
     "execution_count": 33,
     "metadata": {},
     "output_type": "execute_result"
    }
   ],
   "source": [
    "simulate_multiple_time_series.simulate_open_and_close(dt)"
   ]
  },
  {
   "cell_type": "code",
   "execution_count": null,
   "metadata": {},
   "outputs": [],
   "source": [
    "# order, seasonal_order = simulatedata.get_order(dt['open'][1:])\n",
    "# order, seasonal_order"
   ]
  },
  {
   "cell_type": "code",
   "execution_count": null,
   "metadata": {},
   "outputs": [],
   "source": [
    "# if sum(seasonal_order) == 1: seasonal_order = (0, 0, 0, 0)\n",
    "# model_params = simulatedata.fit_sarima(dt['open'][1:], order, seasonal_order)"
   ]
  },
  {
   "cell_type": "code",
   "execution_count": null,
   "metadata": {
    "scrolled": false
   },
   "outputs": [],
   "source": [
    "# t = simulatedata.simulate_sarima(dt['open'][1:], order, seasonal_order, model_params, len(dt), 10)\n",
    "# t"
   ]
  },
  {
   "cell_type": "code",
   "execution_count": null,
   "metadata": {},
   "outputs": [],
   "source": [
    "# simulated_price_data = simulatedata.construct_price_series(t, dt['close'][0], dt.index[0], freq)"
   ]
  },
  {
   "cell_type": "code",
   "execution_count": null,
   "metadata": {},
   "outputs": [],
   "source": [
    "# simulatedata.Evaluate_performance(dt['close'], simulated_price_data, lags=30)"
   ]
  }
 ],
 "metadata": {
  "kernelspec": {
   "display_name": "Python 3 (ipykernel)",
   "language": "python",
   "name": "python3"
  },
  "language_info": {
   "codemirror_mode": {
    "name": "ipython",
    "version": 3
   },
   "file_extension": ".py",
   "mimetype": "text/x-python",
   "name": "python",
   "nbconvert_exporter": "python",
   "pygments_lexer": "ipython3",
   "version": "3.9.6"
  }
 },
 "nbformat": 4,
 "nbformat_minor": 2
}
