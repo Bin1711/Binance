{
 "cells": [
  {
   "cell_type": "code",
   "execution_count": 1,
   "metadata": {},
   "outputs": [
    {
     "name": "stdout",
     "output_type": "stream",
     "text": [
      "Your browser has been opened to visit:\n",
      "\n",
      "    https://accounts.google.com/o/oauth2/auth?client_id=695704595703-kho1v4q5lhtoqq268ckb4it0n08facat.apps.googleusercontent.com&redirect_uri=http%3A%2F%2Flocalhost%3A8080%2F&scope=https%3A%2F%2Fwww.googleapis.com%2Fauth%2Fdrive&access_type=offline&response_type=code\n",
      "\n",
      "Authentication successful.\n"
     ]
    }
   ],
   "source": [
    "import numpy as np\n",
    "import pandas as pd\n",
    "import matplotlib.pyplot as plt\n",
    "import get_data\n",
    "import statsmodels\n",
    "from simulate import simulatedata"
   ]
  },
  {
   "cell_type": "code",
   "execution_count": 2,
   "metadata": {},
   "outputs": [],
   "source": [
    "%load_ext autoreload\n",
    "%autoreload 2"
   ]
  },
  {
   "cell_type": "code",
   "execution_count": 3,
   "metadata": {},
   "outputs": [],
   "source": [
    "syms = ['BTCUSDT']\n",
    "freq = '10min'\n",
    "start_date = '2020-01-01'\n",
    "end_date = '2021-01-01'"
   ]
  },
  {
   "cell_type": "code",
   "execution_count": 4,
   "metadata": {},
   "outputs": [
    {
     "data": {
      "text/plain": [
       "{'BTCUSDT':                                open      high       low     close      volume  \\\n",
       " time                                                                            \n",
       " 2020-01-01 00:00:00+00:00   7195.24   7196.25   7178.20   7191.07  154.874358   \n",
       " 2020-01-01 00:10:00+00:00   7193.15   7193.53   7177.35   7178.29   80.261439   \n",
       " 2020-01-01 00:20:00+00:00   7177.71   7185.56   7175.47   7178.45   96.049725   \n",
       " 2020-01-01 00:30:00+00:00   7178.19   7185.44   7176.23   7177.53   59.973326   \n",
       " 2020-01-01 00:40:00+00:00   7177.14   7182.99   7176.34   7182.94   44.872982   \n",
       " ...                             ...       ...       ...       ...         ...   \n",
       " 2021-01-01 23:10:00+00:00  29276.84  29297.00  29228.14  29297.00  184.771042   \n",
       " 2021-01-01 23:20:00+00:00  29296.99  29309.90  29254.11  29276.25  116.364350   \n",
       " 2021-01-01 23:30:00+00:00  29276.24  29328.00  29267.60  29320.00  173.961308   \n",
       " 2021-01-01 23:40:00+00:00  29320.00  29325.89  29252.60  29277.35  163.284983   \n",
       " 2021-01-01 23:50:00+00:00  29277.35  29338.89  29277.34  29331.69  186.815142   \n",
       " \n",
       "                                    VWAP  \n",
       " time                                     \n",
       " 2020-01-01 00:00:00+00:00   7185.131532  \n",
       " 2020-01-01 00:10:00+00:00   7183.130112  \n",
       " 2020-01-01 00:20:00+00:00   7179.184768  \n",
       " 2020-01-01 00:30:00+00:00   7181.326228  \n",
       " 2020-01-01 00:40:00+00:00   7181.218046  \n",
       " ...                                 ...  \n",
       " 2021-01-01 23:10:00+00:00  29265.196498  \n",
       " 2021-01-01 23:20:00+00:00  29277.384404  \n",
       " 2021-01-01 23:30:00+00:00  29313.535534  \n",
       " 2021-01-01 23:40:00+00:00  29286.600519  \n",
       " 2021-01-01 23:50:00+00:00  29310.674287  \n",
       " \n",
       " [52719 rows x 6 columns]}"
      ]
     },
     "execution_count": 4,
     "metadata": {},
     "output_type": "execute_result"
    }
   ],
   "source": [
    "raw_data = get_data.get_data(syms, freq, start_date, end_date)\n",
    "raw_data"
   ]
  },
  {
   "cell_type": "code",
   "execution_count": 5,
   "metadata": {},
   "outputs": [
    {
     "data": {
      "text/html": [
       "<div>\n",
       "<style scoped>\n",
       "    .dataframe tbody tr th:only-of-type {\n",
       "        vertical-align: middle;\n",
       "    }\n",
       "\n",
       "    .dataframe tbody tr th {\n",
       "        vertical-align: top;\n",
       "    }\n",
       "\n",
       "    .dataframe thead th {\n",
       "        text-align: right;\n",
       "    }\n",
       "</style>\n",
       "<table border=\"1\" class=\"dataframe\">\n",
       "  <thead>\n",
       "    <tr style=\"text-align: right;\">\n",
       "      <th></th>\n",
       "      <th>close</th>\n",
       "      <th>ret</th>\n",
       "    </tr>\n",
       "    <tr>\n",
       "      <th>time</th>\n",
       "      <th></th>\n",
       "      <th></th>\n",
       "    </tr>\n",
       "  </thead>\n",
       "  <tbody>\n",
       "    <tr>\n",
       "      <th>2020-01-01 00:00:00+00:00</th>\n",
       "      <td>7191.07</td>\n",
       "      <td>NaN</td>\n",
       "    </tr>\n",
       "    <tr>\n",
       "      <th>2020-01-01 00:10:00+00:00</th>\n",
       "      <td>7178.29</td>\n",
       "      <td>-0.001777</td>\n",
       "    </tr>\n",
       "    <tr>\n",
       "      <th>2020-01-01 00:20:00+00:00</th>\n",
       "      <td>7178.45</td>\n",
       "      <td>0.000022</td>\n",
       "    </tr>\n",
       "    <tr>\n",
       "      <th>2020-01-01 00:30:00+00:00</th>\n",
       "      <td>7177.53</td>\n",
       "      <td>-0.000128</td>\n",
       "    </tr>\n",
       "    <tr>\n",
       "      <th>2020-01-01 00:40:00+00:00</th>\n",
       "      <td>7182.94</td>\n",
       "      <td>0.000754</td>\n",
       "    </tr>\n",
       "    <tr>\n",
       "      <th>...</th>\n",
       "      <td>...</td>\n",
       "      <td>...</td>\n",
       "    </tr>\n",
       "    <tr>\n",
       "      <th>2021-01-01 23:10:00+00:00</th>\n",
       "      <td>29297.00</td>\n",
       "      <td>0.000689</td>\n",
       "    </tr>\n",
       "    <tr>\n",
       "      <th>2021-01-01 23:20:00+00:00</th>\n",
       "      <td>29276.25</td>\n",
       "      <td>-0.000708</td>\n",
       "    </tr>\n",
       "    <tr>\n",
       "      <th>2021-01-01 23:30:00+00:00</th>\n",
       "      <td>29320.00</td>\n",
       "      <td>0.001494</td>\n",
       "    </tr>\n",
       "    <tr>\n",
       "      <th>2021-01-01 23:40:00+00:00</th>\n",
       "      <td>29277.35</td>\n",
       "      <td>-0.001455</td>\n",
       "    </tr>\n",
       "    <tr>\n",
       "      <th>2021-01-01 23:50:00+00:00</th>\n",
       "      <td>29331.69</td>\n",
       "      <td>0.001856</td>\n",
       "    </tr>\n",
       "  </tbody>\n",
       "</table>\n",
       "<p>52719 rows × 2 columns</p>\n",
       "</div>"
      ],
      "text/plain": [
       "                              close       ret\n",
       "time                                         \n",
       "2020-01-01 00:00:00+00:00   7191.07       NaN\n",
       "2020-01-01 00:10:00+00:00   7178.29 -0.001777\n",
       "2020-01-01 00:20:00+00:00   7178.45  0.000022\n",
       "2020-01-01 00:30:00+00:00   7177.53 -0.000128\n",
       "2020-01-01 00:40:00+00:00   7182.94  0.000754\n",
       "...                             ...       ...\n",
       "2021-01-01 23:10:00+00:00  29297.00  0.000689\n",
       "2021-01-01 23:20:00+00:00  29276.25 -0.000708\n",
       "2021-01-01 23:30:00+00:00  29320.00  0.001494\n",
       "2021-01-01 23:40:00+00:00  29277.35 -0.001455\n",
       "2021-01-01 23:50:00+00:00  29331.69  0.001856\n",
       "\n",
       "[52719 rows x 2 columns]"
      ]
     },
     "execution_count": 5,
     "metadata": {},
     "output_type": "execute_result"
    }
   ],
   "source": [
    "dt = pd.DataFrame()\n",
    "dt['close'] = raw_data['BTCUSDT']['close']\n",
    "dt['ret'] = raw_data['BTCUSDT']['close'].pct_change()\n",
    "dt"
   ]
  },
  {
   "cell_type": "code",
   "execution_count": 6,
   "metadata": {},
   "outputs": [
    {
     "data": {
      "text/plain": [
       "((7, 0, 6), (0, 0, 0, 1))"
      ]
     },
     "execution_count": 6,
     "metadata": {},
     "output_type": "execute_result"
    }
   ],
   "source": [
    "order, seasonal_order = simulatedata.get_order(dt)\n",
    "order, seasonal_order"
   ]
  },
  {
   "cell_type": "code",
   "execution_count": 7,
   "metadata": {},
   "outputs": [
    {
     "name": "stderr",
     "output_type": "stream",
     "text": [
      "C:\\ProgramData\\Anaconda3\\lib\\site-packages\\statsmodels\\tsa\\base\\tsa_model.py:593: ValueWarning: A date index has been provided, but it has no associated frequency information and so will be ignored when e.g. forecasting.\n",
      "  warnings.warn('A date index has been provided, but it has no'\n",
      "C:\\ProgramData\\Anaconda3\\lib\\site-packages\\statsmodels\\tsa\\base\\tsa_model.py:593: ValueWarning: A date index has been provided, but it has no associated frequency information and so will be ignored when e.g. forecasting.\n",
      "  warnings.warn('A date index has been provided, but it has no'\n",
      "C:\\ProgramData\\Anaconda3\\lib\\site-packages\\statsmodels\\tsa\\base\\tsa_model.py:593: ValueWarning: A date index has been provided, but it has no associated frequency information and so will be ignored when e.g. forecasting.\n",
      "  warnings.warn('A date index has been provided, but it has no'\n"
     ]
    }
   ],
   "source": [
    "if sum(seasonal_order) == 1: seasonal_order = (0, 0, 0, 0)\n",
    "model_params = simulatedata.fit_sarima(dt['ret'][1:], order, seasonal_order)"
   ]
  },
  {
   "cell_type": "code",
   "execution_count": 30,
   "metadata": {
    "scrolled": false
   },
   "outputs": [
    {
     "name": "stderr",
     "output_type": "stream",
     "text": [
      "C:\\ProgramData\\Anaconda3\\lib\\site-packages\\statsmodels\\tsa\\base\\tsa_model.py:593: ValueWarning: A date index has been provided, but it has no associated frequency information and so will be ignored when e.g. forecasting.\n",
      "  warnings.warn('A date index has been provided, but it has no'\n",
      "C:\\ProgramData\\Anaconda3\\lib\\site-packages\\statsmodels\\tsa\\base\\tsa_model.py:593: ValueWarning: A date index has been provided, but it has no associated frequency information and so will be ignored when e.g. forecasting.\n",
      "  warnings.warn('A date index has been provided, but it has no'\n",
      "C:\\ProgramData\\Anaconda3\\lib\\site-packages\\statsmodels\\tsa\\base\\tsa_model.py:593: ValueWarning: A date index has been provided, but it has no associated frequency information and so will be ignored when e.g. forecasting.\n",
      "  warnings.warn('A date index has been provided, but it has no'\n",
      "C:\\ProgramData\\Anaconda3\\lib\\site-packages\\statsmodels\\tsa\\base\\tsa_model.py:390: ValueWarning: No supported index is available. Prediction results will be given with an integer index beginning at `start`.\n",
      "  warnings.warn('No supported index is available.'\n"
     ]
    },
    {
     "data": {
      "text/html": [
       "<div>\n",
       "<style scoped>\n",
       "    .dataframe tbody tr th:only-of-type {\n",
       "        vertical-align: middle;\n",
       "    }\n",
       "\n",
       "    .dataframe tbody tr th {\n",
       "        vertical-align: top;\n",
       "    }\n",
       "\n",
       "    .dataframe thead th {\n",
       "        text-align: right;\n",
       "    }\n",
       "</style>\n",
       "<table border=\"1\" class=\"dataframe\">\n",
       "  <thead>\n",
       "    <tr style=\"text-align: right;\">\n",
       "      <th></th>\n",
       "      <th>0</th>\n",
       "      <th>1</th>\n",
       "      <th>2</th>\n",
       "      <th>3</th>\n",
       "      <th>4</th>\n",
       "      <th>5</th>\n",
       "      <th>6</th>\n",
       "      <th>7</th>\n",
       "      <th>8</th>\n",
       "      <th>9</th>\n",
       "    </tr>\n",
       "  </thead>\n",
       "  <tbody>\n",
       "    <tr>\n",
       "      <th>0</th>\n",
       "      <td>-0.002536</td>\n",
       "      <td>0.000845</td>\n",
       "      <td>-0.005614</td>\n",
       "      <td>0.000847</td>\n",
       "      <td>0.000251</td>\n",
       "      <td>0.001987</td>\n",
       "      <td>-0.003886</td>\n",
       "      <td>0.002259</td>\n",
       "      <td>0.000562</td>\n",
       "      <td>-0.007297</td>\n",
       "    </tr>\n",
       "    <tr>\n",
       "      <th>1</th>\n",
       "      <td>-0.000451</td>\n",
       "      <td>-0.001595</td>\n",
       "      <td>0.005604</td>\n",
       "      <td>0.000952</td>\n",
       "      <td>0.002356</td>\n",
       "      <td>0.001206</td>\n",
       "      <td>0.004736</td>\n",
       "      <td>-0.001156</td>\n",
       "      <td>-0.003694</td>\n",
       "      <td>-0.004695</td>\n",
       "    </tr>\n",
       "    <tr>\n",
       "      <th>2</th>\n",
       "      <td>0.002396</td>\n",
       "      <td>0.000020</td>\n",
       "      <td>-0.003948</td>\n",
       "      <td>0.004988</td>\n",
       "      <td>0.003434</td>\n",
       "      <td>-0.008381</td>\n",
       "      <td>-0.000648</td>\n",
       "      <td>0.002962</td>\n",
       "      <td>0.003859</td>\n",
       "      <td>-0.004459</td>\n",
       "    </tr>\n",
       "    <tr>\n",
       "      <th>3</th>\n",
       "      <td>-0.001817</td>\n",
       "      <td>0.003374</td>\n",
       "      <td>0.002737</td>\n",
       "      <td>0.000867</td>\n",
       "      <td>-0.003520</td>\n",
       "      <td>-0.001655</td>\n",
       "      <td>-0.006169</td>\n",
       "      <td>-0.003515</td>\n",
       "      <td>-0.007851</td>\n",
       "      <td>-0.002734</td>\n",
       "    </tr>\n",
       "    <tr>\n",
       "      <th>4</th>\n",
       "      <td>0.000298</td>\n",
       "      <td>0.000605</td>\n",
       "      <td>0.004255</td>\n",
       "      <td>-0.000324</td>\n",
       "      <td>0.000584</td>\n",
       "      <td>0.001041</td>\n",
       "      <td>-0.000864</td>\n",
       "      <td>-0.006896</td>\n",
       "      <td>0.003759</td>\n",
       "      <td>0.000311</td>\n",
       "    </tr>\n",
       "    <tr>\n",
       "      <th>...</th>\n",
       "      <td>...</td>\n",
       "      <td>...</td>\n",
       "      <td>...</td>\n",
       "      <td>...</td>\n",
       "      <td>...</td>\n",
       "      <td>...</td>\n",
       "      <td>...</td>\n",
       "      <td>...</td>\n",
       "      <td>...</td>\n",
       "      <td>...</td>\n",
       "    </tr>\n",
       "    <tr>\n",
       "      <th>52714</th>\n",
       "      <td>0.010196</td>\n",
       "      <td>-0.003093</td>\n",
       "      <td>0.003020</td>\n",
       "      <td>0.004866</td>\n",
       "      <td>0.002122</td>\n",
       "      <td>-0.003337</td>\n",
       "      <td>0.005201</td>\n",
       "      <td>0.005986</td>\n",
       "      <td>0.000327</td>\n",
       "      <td>-0.002825</td>\n",
       "    </tr>\n",
       "    <tr>\n",
       "      <th>52715</th>\n",
       "      <td>0.002151</td>\n",
       "      <td>-0.001798</td>\n",
       "      <td>0.000774</td>\n",
       "      <td>0.006266</td>\n",
       "      <td>0.001261</td>\n",
       "      <td>-0.001141</td>\n",
       "      <td>-0.005533</td>\n",
       "      <td>-0.001779</td>\n",
       "      <td>0.000376</td>\n",
       "      <td>-0.004379</td>\n",
       "    </tr>\n",
       "    <tr>\n",
       "      <th>52716</th>\n",
       "      <td>0.003390</td>\n",
       "      <td>0.001096</td>\n",
       "      <td>0.003923</td>\n",
       "      <td>0.001352</td>\n",
       "      <td>0.002672</td>\n",
       "      <td>-0.003984</td>\n",
       "      <td>-0.002583</td>\n",
       "      <td>0.009308</td>\n",
       "      <td>0.003071</td>\n",
       "      <td>0.000153</td>\n",
       "    </tr>\n",
       "    <tr>\n",
       "      <th>52717</th>\n",
       "      <td>-0.003730</td>\n",
       "      <td>0.000952</td>\n",
       "      <td>-0.005569</td>\n",
       "      <td>0.001038</td>\n",
       "      <td>-0.003008</td>\n",
       "      <td>0.004529</td>\n",
       "      <td>0.004134</td>\n",
       "      <td>-0.008904</td>\n",
       "      <td>-0.003022</td>\n",
       "      <td>-0.000367</td>\n",
       "    </tr>\n",
       "    <tr>\n",
       "      <th>52718</th>\n",
       "      <td>0.000958</td>\n",
       "      <td>-0.001834</td>\n",
       "      <td>-0.000930</td>\n",
       "      <td>0.003113</td>\n",
       "      <td>-0.004597</td>\n",
       "      <td>-0.000904</td>\n",
       "      <td>0.000844</td>\n",
       "      <td>-0.006212</td>\n",
       "      <td>-0.000594</td>\n",
       "      <td>0.007322</td>\n",
       "    </tr>\n",
       "  </tbody>\n",
       "</table>\n",
       "<p>52719 rows × 10 columns</p>\n",
       "</div>"
      ],
      "text/plain": [
       "              0         1         2         3         4         5         6  \\\n",
       "0     -0.002536  0.000845 -0.005614  0.000847  0.000251  0.001987 -0.003886   \n",
       "1     -0.000451 -0.001595  0.005604  0.000952  0.002356  0.001206  0.004736   \n",
       "2      0.002396  0.000020 -0.003948  0.004988  0.003434 -0.008381 -0.000648   \n",
       "3     -0.001817  0.003374  0.002737  0.000867 -0.003520 -0.001655 -0.006169   \n",
       "4      0.000298  0.000605  0.004255 -0.000324  0.000584  0.001041 -0.000864   \n",
       "...         ...       ...       ...       ...       ...       ...       ...   \n",
       "52714  0.010196 -0.003093  0.003020  0.004866  0.002122 -0.003337  0.005201   \n",
       "52715  0.002151 -0.001798  0.000774  0.006266  0.001261 -0.001141 -0.005533   \n",
       "52716  0.003390  0.001096  0.003923  0.001352  0.002672 -0.003984 -0.002583   \n",
       "52717 -0.003730  0.000952 -0.005569  0.001038 -0.003008  0.004529  0.004134   \n",
       "52718  0.000958 -0.001834 -0.000930  0.003113 -0.004597 -0.000904  0.000844   \n",
       "\n",
       "              7         8         9  \n",
       "0      0.002259  0.000562 -0.007297  \n",
       "1     -0.001156 -0.003694 -0.004695  \n",
       "2      0.002962  0.003859 -0.004459  \n",
       "3     -0.003515 -0.007851 -0.002734  \n",
       "4     -0.006896  0.003759  0.000311  \n",
       "...         ...       ...       ...  \n",
       "52714  0.005986  0.000327 -0.002825  \n",
       "52715 -0.001779  0.000376 -0.004379  \n",
       "52716  0.009308  0.003071  0.000153  \n",
       "52717 -0.008904 -0.003022 -0.000367  \n",
       "52718 -0.006212 -0.000594  0.007322  \n",
       "\n",
       "[52719 rows x 10 columns]"
      ]
     },
     "execution_count": 30,
     "metadata": {},
     "output_type": "execute_result"
    }
   ],
   "source": [
    "t = simulatedata.simulate_sarima(dt['ret'][1:], order, seasonal_order, model_params, len(dt), 10)\n",
    "t"
   ]
  },
  {
   "cell_type": "code",
   "execution_count": 31,
   "metadata": {},
   "outputs": [],
   "source": [
    "simulated_price_data = simulatedata.construct_price_series(t, dt['close'][0], dt.index[0], freq)"
   ]
  },
  {
   "cell_type": "code",
   "execution_count": 32,
   "metadata": {},
   "outputs": [
    {
     "ename": "ValueError",
     "evalue": "x is required to have ndim 1 but has ndim 2",
     "output_type": "error",
     "traceback": [
      "\u001b[1;31m---------------------------------------------------------------------------\u001b[0m",
      "\u001b[1;31mValueError\u001b[0m                                Traceback (most recent call last)",
      "\u001b[1;32m~\\AppData\\Local\\Temp/ipykernel_14188/2096393010.py\u001b[0m in \u001b[0;36m<module>\u001b[1;34m\u001b[0m\n\u001b[1;32m----> 1\u001b[1;33m \u001b[0msimulatedata\u001b[0m\u001b[1;33m.\u001b[0m\u001b[0mEvaluate_performance\u001b[0m\u001b[1;33m(\u001b[0m\u001b[0mdt\u001b[0m\u001b[1;33m[\u001b[0m\u001b[1;34m'close'\u001b[0m\u001b[1;33m]\u001b[0m\u001b[1;33m,\u001b[0m \u001b[0msimulated_price_data\u001b[0m\u001b[1;33m,\u001b[0m \u001b[0mlags\u001b[0m\u001b[1;33m=\u001b[0m\u001b[1;36m30\u001b[0m\u001b[1;33m)\u001b[0m\u001b[1;33m\u001b[0m\u001b[1;33m\u001b[0m\u001b[0m\n\u001b[0m",
      "\u001b[1;32m~\\Documents\\GitHub\\TradingBot\\simulate\\simulatedata.py\u001b[0m in \u001b[0;36mEvaluate_performance\u001b[1;34m(data1, data2, lags, figsize, style)\u001b[0m\n\u001b[0;32m    136\u001b[0m         \u001b[0mdata1_ax\u001b[0m\u001b[1;33m.\u001b[0m\u001b[0mset_title\u001b[0m\u001b[1;33m(\u001b[0m\u001b[1;34m'Actual price data'\u001b[0m\u001b[1;33m)\u001b[0m\u001b[1;33m\u001b[0m\u001b[1;33m\u001b[0m\u001b[0m\n\u001b[0;32m    137\u001b[0m         \u001b[0mdata2_ax\u001b[0m\u001b[1;33m.\u001b[0m\u001b[0mset_title\u001b[0m\u001b[1;33m(\u001b[0m\u001b[1;34m'simulated price data'\u001b[0m\u001b[1;33m)\u001b[0m\u001b[1;33m\u001b[0m\u001b[1;33m\u001b[0m\u001b[0m\n\u001b[1;32m--> 138\u001b[1;33m         \u001b[0mplotting_ACF\u001b[0m\u001b[1;33m(\u001b[0m\u001b[0mdata2\u001b[0m\u001b[1;33m,\u001b[0m \u001b[0mlags\u001b[0m \u001b[1;33m=\u001b[0m \u001b[0mlags\u001b[0m\u001b[1;33m,\u001b[0m \u001b[0max\u001b[0m \u001b[1;33m=\u001b[0m \u001b[0macf1_ax\u001b[0m\u001b[1;33m)\u001b[0m\u001b[1;33m\u001b[0m\u001b[1;33m\u001b[0m\u001b[0m\n\u001b[0m\u001b[0;32m    139\u001b[0m         \u001b[0mplotting_PACF\u001b[0m\u001b[1;33m(\u001b[0m\u001b[0mdata2\u001b[0m\u001b[1;33m,\u001b[0m \u001b[0mlags\u001b[0m \u001b[1;33m=\u001b[0m \u001b[0mlags\u001b[0m\u001b[1;33m,\u001b[0m \u001b[0max\u001b[0m \u001b[1;33m=\u001b[0m \u001b[0mpacf1_ax\u001b[0m\u001b[1;33m)\u001b[0m\u001b[1;33m\u001b[0m\u001b[1;33m\u001b[0m\u001b[0m\n\u001b[0;32m    140\u001b[0m         \u001b[0mplotting_ACF\u001b[0m\u001b[1;33m(\u001b[0m\u001b[0mdata2\u001b[0m\u001b[1;33m,\u001b[0m \u001b[0mlags\u001b[0m \u001b[1;33m=\u001b[0m \u001b[0mlags\u001b[0m\u001b[1;33m,\u001b[0m \u001b[0max\u001b[0m \u001b[1;33m=\u001b[0m \u001b[0macf2_ax\u001b[0m\u001b[1;33m)\u001b[0m\u001b[1;33m\u001b[0m\u001b[1;33m\u001b[0m\u001b[0m\n",
      "\u001b[1;32m~\\Documents\\GitHub\\TradingBot\\simulate\\simulatedata.py\u001b[0m in \u001b[0;36mplotting_ACF\u001b[1;34m(data, lags, ax)\u001b[0m\n\u001b[0;32m     99\u001b[0m \u001b[1;33m\u001b[0m\u001b[0m\n\u001b[0;32m    100\u001b[0m     \"\"\"\n\u001b[1;32m--> 101\u001b[1;33m     \u001b[0msm\u001b[0m\u001b[1;33m.\u001b[0m\u001b[0mgraphics\u001b[0m\u001b[1;33m.\u001b[0m\u001b[0mtsa\u001b[0m\u001b[1;33m.\u001b[0m\u001b[0mplot_acf\u001b[0m\u001b[1;33m(\u001b[0m\u001b[0mdata\u001b[0m\u001b[1;33m,\u001b[0m \u001b[0mlags\u001b[0m \u001b[1;33m=\u001b[0m \u001b[0mlags\u001b[0m\u001b[1;33m,\u001b[0m \u001b[0max\u001b[0m \u001b[1;33m=\u001b[0m \u001b[0max\u001b[0m\u001b[1;33m)\u001b[0m\u001b[1;33m\u001b[0m\u001b[1;33m\u001b[0m\u001b[0m\n\u001b[0m\u001b[0;32m    102\u001b[0m     \u001b[0mplt\u001b[0m\u001b[1;33m.\u001b[0m\u001b[0mshow\u001b[0m\u001b[1;33m(\u001b[0m\u001b[1;33m)\u001b[0m\u001b[1;33m\u001b[0m\u001b[1;33m\u001b[0m\u001b[0m\n\u001b[0;32m    103\u001b[0m     \u001b[1;32mreturn\u001b[0m\u001b[1;33m\u001b[0m\u001b[1;33m\u001b[0m\u001b[0m\n",
      "\u001b[1;32m~\\AppData\\Roaming\\Python\\Python38\\site-packages\\pandas\\util\\_decorators.py\u001b[0m in \u001b[0;36mwrapper\u001b[1;34m(*args, **kwargs)\u001b[0m\n\u001b[0;32m    205\u001b[0m                 \u001b[1;32melse\u001b[0m\u001b[1;33m:\u001b[0m\u001b[1;33m\u001b[0m\u001b[1;33m\u001b[0m\u001b[0m\n\u001b[0;32m    206\u001b[0m                     \u001b[0mkwargs\u001b[0m\u001b[1;33m[\u001b[0m\u001b[0mnew_arg_name\u001b[0m\u001b[1;33m]\u001b[0m \u001b[1;33m=\u001b[0m \u001b[0mnew_arg_value\u001b[0m\u001b[1;33m\u001b[0m\u001b[1;33m\u001b[0m\u001b[0m\n\u001b[1;32m--> 207\u001b[1;33m             \u001b[1;32mreturn\u001b[0m \u001b[0mfunc\u001b[0m\u001b[1;33m(\u001b[0m\u001b[1;33m*\u001b[0m\u001b[0margs\u001b[0m\u001b[1;33m,\u001b[0m \u001b[1;33m**\u001b[0m\u001b[0mkwargs\u001b[0m\u001b[1;33m)\u001b[0m\u001b[1;33m\u001b[0m\u001b[1;33m\u001b[0m\u001b[0m\n\u001b[0m\u001b[0;32m    208\u001b[0m \u001b[1;33m\u001b[0m\u001b[0m\n\u001b[0;32m    209\u001b[0m         \u001b[1;32mreturn\u001b[0m \u001b[0mcast\u001b[0m\u001b[1;33m(\u001b[0m\u001b[0mF\u001b[0m\u001b[1;33m,\u001b[0m \u001b[0mwrapper\u001b[0m\u001b[1;33m)\u001b[0m\u001b[1;33m\u001b[0m\u001b[1;33m\u001b[0m\u001b[0m\n",
      "\u001b[1;32mC:\\ProgramData\\Anaconda3\\lib\\site-packages\\statsmodels\\graphics\\tsaplots.py\u001b[0m in \u001b[0;36mplot_acf\u001b[1;34m(x, ax, lags, alpha, use_vlines, adjusted, fft, missing, title, zero, auto_ylims, bartlett_confint, vlines_kwargs, **kwargs)\u001b[0m\n\u001b[0;32m    214\u001b[0m     \u001b[0mconfint\u001b[0m \u001b[1;33m=\u001b[0m \u001b[1;32mNone\u001b[0m\u001b[1;33m\u001b[0m\u001b[1;33m\u001b[0m\u001b[0m\n\u001b[0;32m    215\u001b[0m     \u001b[1;31m# acf has different return type based on alpha\u001b[0m\u001b[1;33m\u001b[0m\u001b[1;33m\u001b[0m\u001b[1;33m\u001b[0m\u001b[0m\n\u001b[1;32m--> 216\u001b[1;33m     acf_x = acf(\n\u001b[0m\u001b[0;32m    217\u001b[0m         \u001b[0mx\u001b[0m\u001b[1;33m,\u001b[0m\u001b[1;33m\u001b[0m\u001b[1;33m\u001b[0m\u001b[0m\n\u001b[0;32m    218\u001b[0m         \u001b[0mnlags\u001b[0m\u001b[1;33m=\u001b[0m\u001b[0mnlags\u001b[0m\u001b[1;33m,\u001b[0m\u001b[1;33m\u001b[0m\u001b[1;33m\u001b[0m\u001b[0m\n",
      "\u001b[1;32mC:\\ProgramData\\Anaconda3\\lib\\site-packages\\statsmodels\\tsa\\stattools.py\u001b[0m in \u001b[0;36macf\u001b[1;34m(x, adjusted, nlags, qstat, fft, alpha, bartlett_confint, missing)\u001b[0m\n\u001b[0;32m    666\u001b[0m         \u001b[0mmissing\u001b[0m\u001b[1;33m,\u001b[0m \u001b[1;34m\"missing\"\u001b[0m\u001b[1;33m,\u001b[0m \u001b[0moptions\u001b[0m\u001b[1;33m=\u001b[0m\u001b[1;33m(\u001b[0m\u001b[1;34m\"none\"\u001b[0m\u001b[1;33m,\u001b[0m \u001b[1;34m\"raise\"\u001b[0m\u001b[1;33m,\u001b[0m \u001b[1;34m\"conservative\"\u001b[0m\u001b[1;33m,\u001b[0m \u001b[1;34m\"drop\"\u001b[0m\u001b[1;33m)\u001b[0m\u001b[1;33m\u001b[0m\u001b[1;33m\u001b[0m\u001b[0m\n\u001b[0;32m    667\u001b[0m     )\n\u001b[1;32m--> 668\u001b[1;33m     \u001b[0mx\u001b[0m \u001b[1;33m=\u001b[0m \u001b[0marray_like\u001b[0m\u001b[1;33m(\u001b[0m\u001b[0mx\u001b[0m\u001b[1;33m,\u001b[0m \u001b[1;34m\"x\"\u001b[0m\u001b[1;33m)\u001b[0m\u001b[1;33m\u001b[0m\u001b[1;33m\u001b[0m\u001b[0m\n\u001b[0m\u001b[0;32m    669\u001b[0m     \u001b[1;31m# TODO: should this shrink for missing=\"drop\" and NaNs in x?\u001b[0m\u001b[1;33m\u001b[0m\u001b[1;33m\u001b[0m\u001b[1;33m\u001b[0m\u001b[0m\n\u001b[0;32m    670\u001b[0m     \u001b[0mnobs\u001b[0m \u001b[1;33m=\u001b[0m \u001b[0mx\u001b[0m\u001b[1;33m.\u001b[0m\u001b[0mshape\u001b[0m\u001b[1;33m[\u001b[0m\u001b[1;36m0\u001b[0m\u001b[1;33m]\u001b[0m\u001b[1;33m\u001b[0m\u001b[1;33m\u001b[0m\u001b[0m\n",
      "\u001b[1;32mC:\\ProgramData\\Anaconda3\\lib\\site-packages\\statsmodels\\tools\\validation\\validation.py\u001b[0m in \u001b[0;36marray_like\u001b[1;34m(obj, name, dtype, ndim, maxdim, shape, order, contiguous, optional)\u001b[0m\n\u001b[0;32m    145\u001b[0m         \u001b[1;32mif\u001b[0m \u001b[0marr\u001b[0m\u001b[1;33m.\u001b[0m\u001b[0mndim\u001b[0m \u001b[1;33m!=\u001b[0m \u001b[0mndim\u001b[0m\u001b[1;33m:\u001b[0m\u001b[1;33m\u001b[0m\u001b[1;33m\u001b[0m\u001b[0m\n\u001b[0;32m    146\u001b[0m             \u001b[0mmsg\u001b[0m \u001b[1;33m=\u001b[0m \u001b[1;34m\"{0} is required to have ndim {1} but has ndim {2}\"\u001b[0m\u001b[1;33m\u001b[0m\u001b[1;33m\u001b[0m\u001b[0m\n\u001b[1;32m--> 147\u001b[1;33m             \u001b[1;32mraise\u001b[0m \u001b[0mValueError\u001b[0m\u001b[1;33m(\u001b[0m\u001b[0mmsg\u001b[0m\u001b[1;33m.\u001b[0m\u001b[0mformat\u001b[0m\u001b[1;33m(\u001b[0m\u001b[0mname\u001b[0m\u001b[1;33m,\u001b[0m \u001b[0mndim\u001b[0m\u001b[1;33m,\u001b[0m \u001b[0marr\u001b[0m\u001b[1;33m.\u001b[0m\u001b[0mndim\u001b[0m\u001b[1;33m)\u001b[0m\u001b[1;33m)\u001b[0m\u001b[1;33m\u001b[0m\u001b[1;33m\u001b[0m\u001b[0m\n\u001b[0m\u001b[0;32m    148\u001b[0m     \u001b[1;32mif\u001b[0m \u001b[0mshape\u001b[0m \u001b[1;32mis\u001b[0m \u001b[1;32mnot\u001b[0m \u001b[1;32mNone\u001b[0m\u001b[1;33m:\u001b[0m\u001b[1;33m\u001b[0m\u001b[1;33m\u001b[0m\u001b[0m\n\u001b[0;32m    149\u001b[0m         \u001b[1;32mfor\u001b[0m \u001b[0mactual\u001b[0m\u001b[1;33m,\u001b[0m \u001b[0mreq\u001b[0m \u001b[1;32min\u001b[0m \u001b[0mzip\u001b[0m\u001b[1;33m(\u001b[0m\u001b[0marr\u001b[0m\u001b[1;33m.\u001b[0m\u001b[0mshape\u001b[0m\u001b[1;33m,\u001b[0m \u001b[0mshape\u001b[0m\u001b[1;33m)\u001b[0m\u001b[1;33m:\u001b[0m\u001b[1;33m\u001b[0m\u001b[1;33m\u001b[0m\u001b[0m\n",
      "\u001b[1;31mValueError\u001b[0m: x is required to have ndim 1 but has ndim 2"
     ]
    },
    {
     "data": {
      "image/png": "[encoded data removed]",
      "text/plain": [
       "<Figure size 720x576 with 6 Axes>"
      ]
     },
     "metadata": {
      "needs_background": "light"
     },
     "output_type": "display_data"
    }
   ],
   "source": [
    "simulatedata.Evaluate_performance(dt['close'], simulated_price_data, lags=30)"
   ]
  },
  {
   "cell_type": "code",
   "execution_count": null,
   "metadata": {},
   "outputs": [],
   "source": []
  }
 ],
 "metadata": {
  "kernelspec": {
   "display_name": "Python 3 (ipykernel)",
   "language": "python",
   "name": "python3"
  },
  "language_info": {
   "codemirror_mode": {
    "name": "ipython",
    "version": 3
   },
   "file_extension": ".py",
   "mimetype": "text/x-python",
   "name": "python",
   "nbconvert_exporter": "python",
   "pygments_lexer": "ipython3",
   "version": "3.8.12"
  }
 },
 "nbformat": 4,
 "nbformat_minor": 2
}
