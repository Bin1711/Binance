{
 "cells": [
  {
   "cell_type": "code",
   "execution_count": 1,
   "metadata": {},
   "outputs": [],
   "source": [
    "import numpy as np\n",
    "import pandas as pd\n",
    "import matplotlib.pyplot as plt\n",
    "import get_data\n",
    "import statsmodels\n",
    "from simulate import simulatedata"
   ]
  },
  {
   "cell_type": "code",
   "execution_count": 2,
   "metadata": {},
   "outputs": [],
   "source": [
    "%load_ext autoreload\n",
    "%autoreload 2"
   ]
  },
  {
   "cell_type": "code",
   "execution_count": 3,
   "metadata": {},
   "outputs": [],
   "source": [
    "syms = ['BTCUSDT']\n",
    "freq = '10min'\n",
    "start_date = '2020-01-01'\n",
    "end_date = '2020-01-03'"
   ]
  },
  {
   "cell_type": "code",
   "execution_count": 4,
   "metadata": {},
   "outputs": [
    {
     "name": "stdout",
     "output_type": "stream",
     "text": [
      "Your browser has been opened to visit:\n",
      "\n",
      "    https://accounts.google.com/o/oauth2/auth?client_id=695704595703-1kpq4gcdb9769asd1vhdo80fssdia4m6.apps.googleusercontent.com&redirect_uri=http%3A%2F%2Flocalhost%3A8080%2F&scope=https%3A%2F%2Fwww.googleapis.com%2Fauth%2Fdrive&access_type=offline&response_type=code\n",
      "\n",
      "Authentication successful.\n"
     ]
    },
    {
     "name": "stderr",
     "output_type": "stream",
     "text": [
      "c:\\Users\\admin\\Desktop\\Binance\\Binance\\get_data.py:52: FutureWarning: Indexing a timezone-aware DatetimeIndex with a timezone-naive datetime is deprecated and will raise KeyError in a future version.  Use a timezone-aware object instead.\n",
      "  data[symbol] = _load_df_from_file(symbol, frequency)[start_time:end_time]\n"
     ]
    },
    {
     "data": {
      "text/plain": [
       "{'BTCUSDT':                               open     high      low    close      volume  \\\n",
       " time                                                                        \n",
       " 2020-01-01 00:00:00+00:00  7195.24  7196.25  7178.20  7191.07  154.874358   \n",
       " 2020-01-01 00:10:00+00:00  7193.15  7193.53  7177.35  7178.29   80.261439   \n",
       " 2020-01-01 00:20:00+00:00  7177.71  7185.56  7175.47  7178.45   96.049725   \n",
       " 2020-01-01 00:30:00+00:00  7178.19  7185.44  7176.23  7177.53   59.973326   \n",
       " 2020-01-01 00:40:00+00:00  7177.14  7182.99  7176.34  7182.94   44.872982   \n",
       " ...                            ...      ...      ...      ...         ...   \n",
       " 2020-01-02 23:20:00+00:00  6959.16  6962.39  6950.00  6962.34  217.262815   \n",
       " 2020-01-02 23:30:00+00:00  6962.47  6974.75  6957.66  6965.37  145.757951   \n",
       " 2020-01-02 23:40:00+00:00  6965.09  6969.46  6959.87  6967.41   75.157310   \n",
       " 2020-01-02 23:50:00+00:00  6967.40  6968.82  6961.24  6965.71   82.459841   \n",
       " 2020-01-03 00:00:00+00:00  6965.49  6965.71  6948.45  6963.38  180.492276   \n",
       " \n",
       "                                   VWAP  \n",
       " time                                    \n",
       " 2020-01-01 00:00:00+00:00  7185.131532  \n",
       " 2020-01-01 00:10:00+00:00  7183.130112  \n",
       " 2020-01-01 00:20:00+00:00  7179.184768  \n",
       " 2020-01-01 00:30:00+00:00  7181.326228  \n",
       " 2020-01-01 00:40:00+00:00  7181.218046  \n",
       " ...                                ...  \n",
       " 2020-01-02 23:20:00+00:00  6956.932068  \n",
       " 2020-01-02 23:30:00+00:00  6967.519428  \n",
       " 2020-01-02 23:40:00+00:00  6963.849599  \n",
       " 2020-01-02 23:50:00+00:00  6965.270329  \n",
       " 2020-01-03 00:00:00+00:00  6956.339162  \n",
       " \n",
       " [289 rows x 6 columns]}"
      ]
     },
     "execution_count": 4,
     "metadata": {},
     "output_type": "execute_result"
    }
   ],
   "source": [
    "raw_data = get_data.get_data(syms, freq, start_date, end_date)\n",
    "raw_data"
   ]
  },
  {
   "cell_type": "code",
   "execution_count": 5,
   "metadata": {},
   "outputs": [
    {
     "data": {
      "text/html": [
       "<div>\n",
       "<style scoped>\n",
       "    .dataframe tbody tr th:only-of-type {\n",
       "        vertical-align: middle;\n",
       "    }\n",
       "\n",
       "    .dataframe tbody tr th {\n",
       "        vertical-align: top;\n",
       "    }\n",
       "\n",
       "    .dataframe thead th {\n",
       "        text-align: right;\n",
       "    }\n",
       "</style>\n",
       "<table border=\"1\" class=\"dataframe\">\n",
       "  <thead>\n",
       "    <tr style=\"text-align: right;\">\n",
       "      <th></th>\n",
       "      <th>close</th>\n",
       "      <th>ret</th>\n",
       "    </tr>\n",
       "    <tr>\n",
       "      <th>time</th>\n",
       "      <th></th>\n",
       "      <th></th>\n",
       "    </tr>\n",
       "  </thead>\n",
       "  <tbody>\n",
       "    <tr>\n",
       "      <th>2020-01-01 00:00:00+00:00</th>\n",
       "      <td>7191.07</td>\n",
       "      <td>NaN</td>\n",
       "    </tr>\n",
       "    <tr>\n",
       "      <th>2020-01-01 00:10:00+00:00</th>\n",
       "      <td>7178.29</td>\n",
       "      <td>-0.001777</td>\n",
       "    </tr>\n",
       "    <tr>\n",
       "      <th>2020-01-01 00:20:00+00:00</th>\n",
       "      <td>7178.45</td>\n",
       "      <td>0.000022</td>\n",
       "    </tr>\n",
       "    <tr>\n",
       "      <th>2020-01-01 00:30:00+00:00</th>\n",
       "      <td>7177.53</td>\n",
       "      <td>-0.000128</td>\n",
       "    </tr>\n",
       "    <tr>\n",
       "      <th>2020-01-01 00:40:00+00:00</th>\n",
       "      <td>7182.94</td>\n",
       "      <td>0.000754</td>\n",
       "    </tr>\n",
       "    <tr>\n",
       "      <th>...</th>\n",
       "      <td>...</td>\n",
       "      <td>...</td>\n",
       "    </tr>\n",
       "    <tr>\n",
       "      <th>2020-01-02 23:20:00+00:00</th>\n",
       "      <td>6962.34</td>\n",
       "      <td>0.000457</td>\n",
       "    </tr>\n",
       "    <tr>\n",
       "      <th>2020-01-02 23:30:00+00:00</th>\n",
       "      <td>6965.37</td>\n",
       "      <td>0.000435</td>\n",
       "    </tr>\n",
       "    <tr>\n",
       "      <th>2020-01-02 23:40:00+00:00</th>\n",
       "      <td>6967.41</td>\n",
       "      <td>0.000293</td>\n",
       "    </tr>\n",
       "    <tr>\n",
       "      <th>2020-01-02 23:50:00+00:00</th>\n",
       "      <td>6965.71</td>\n",
       "      <td>-0.000244</td>\n",
       "    </tr>\n",
       "    <tr>\n",
       "      <th>2020-01-03 00:00:00+00:00</th>\n",
       "      <td>6963.38</td>\n",
       "      <td>-0.000334</td>\n",
       "    </tr>\n",
       "  </tbody>\n",
       "</table>\n",
       "<p>289 rows × 2 columns</p>\n",
       "</div>"
      ],
      "text/plain": [
       "                             close       ret\n",
       "time                                        \n",
       "2020-01-01 00:00:00+00:00  7191.07       NaN\n",
       "2020-01-01 00:10:00+00:00  7178.29 -0.001777\n",
       "2020-01-01 00:20:00+00:00  7178.45  0.000022\n",
       "2020-01-01 00:30:00+00:00  7177.53 -0.000128\n",
       "2020-01-01 00:40:00+00:00  7182.94  0.000754\n",
       "...                            ...       ...\n",
       "2020-01-02 23:20:00+00:00  6962.34  0.000457\n",
       "2020-01-02 23:30:00+00:00  6965.37  0.000435\n",
       "2020-01-02 23:40:00+00:00  6967.41  0.000293\n",
       "2020-01-02 23:50:00+00:00  6965.71 -0.000244\n",
       "2020-01-03 00:00:00+00:00  6963.38 -0.000334\n",
       "\n",
       "[289 rows x 2 columns]"
      ]
     },
     "execution_count": 5,
     "metadata": {},
     "output_type": "execute_result"
    }
   ],
   "source": [
    "dt = pd.DataFrame()\n",
    "dt['close'] = raw_data['BTCUSDT']['close']\n",
    "dt['ret'] = raw_data['BTCUSDT']['close'].pct_change()\n",
    "dt"
   ]
  },
  {
   "cell_type": "code",
   "execution_count": 6,
   "metadata": {},
   "outputs": [
    {
     "data": {
      "text/plain": [
       "((2, 0, 0), (0, 0, 0, 1))"
      ]
     },
     "execution_count": 6,
     "metadata": {},
     "output_type": "execute_result"
    }
   ],
   "source": [
    "order, seasonal_order = simulatedata.get_order(dt['ret'][1:])\n",
    "order, seasonal_order"
   ]
  },
  {
   "cell_type": "code",
   "execution_count": null,
   "metadata": {},
   "outputs": [],
   "source": [
    "if sum(seasonal_order) == 1: seasonal_order = (0, 0, 0, 0)\n",
    "model_params = simulatedata.fit_sarima(dt['ret'][1:], order, seasonal_order)"
   ]
  },
  {
   "cell_type": "code",
   "execution_count": null,
   "metadata": {
    "scrolled": false
   },
   "outputs": [],
   "source": [
    "t = simulatedata.simulate_sarima(dt['ret'][1:], order, seasonal_order, model_params, len(dt), 10)\n",
    "t"
   ]
  },
  {
   "cell_type": "code",
   "execution_count": null,
   "metadata": {},
   "outputs": [],
   "source": [
    "simulated_price_data = simulatedata.construct_price_series(t, dt['close'][0], dt.index[0], freq)"
   ]
  },
  {
   "cell_type": "code",
   "execution_count": null,
   "metadata": {},
   "outputs": [],
   "source": [
    "simulatedata.Evaluate_performance(dt['close'], simulated_price_data, lags=30)"
   ]
  }
 ],
 "metadata": {
  "kernelspec": {
   "display_name": "Python 3 (ipykernel)",
   "language": "python",
   "name": "python3"
  },
  "language_info": {
   "codemirror_mode": {
    "name": "ipython",
    "version": 3
   },
   "file_extension": ".py",
   "mimetype": "text/x-python",
   "name": "python",
   "nbconvert_exporter": "python",
   "pygments_lexer": "ipython3",
   "version": "3.9.10"
  }
 },
 "nbformat": 4,
 "nbformat_minor": 2
}
