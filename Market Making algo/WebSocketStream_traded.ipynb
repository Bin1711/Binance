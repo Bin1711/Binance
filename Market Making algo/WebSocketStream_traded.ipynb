{
 "cells": [
  {
   "cell_type": "code",
   "execution_count": 1,
   "id": "f89a50b9",
   "metadata": {},
   "outputs": [],
   "source": [
    "import ssl\n",
    "import websocket\n",
    "import json\n",
    "\n",
    "import pandas as pd\n",
    "import matplotlib.pyplot as plt\n",
    "import sqlalchemy"
   ]
  },
  {
   "cell_type": "code",
   "execution_count": 2,
   "id": "bab20251",
   "metadata": {},
   "outputs": [],
   "source": [
    "def create_df(msg):\n",
    "    msg = json.loads(msg)\n",
    "    if len(msg['events']) > 0:\n",
    "        df = pd.DataFrame(msg['events'])\n",
    "        df['timestampms'] = msg['timestampms']\n",
    "        df = df[['timestampms', 'price', 'amount', 'makerSide']]\n",
    "        #df['timestampms'] = df['timestampms'].astype('int') #pd.to_datetime(df['timestampms'], unit='ms')\n",
    "        df['price'] = df['price'].astype('float')\n",
    "        df['amount'] = df['amount'].astype('float')\n",
    "        df['makerSide'] = df['makerSide'].astype('str')\n",
    "        return df\n",
    "\n",
    "def on_message(ws, message):\n",
    "    df = create_df(message)\n",
    "    if df is not None:\n",
    "        df.to_sql(sym+'_traded', engine, if_exists='append', index=False, index_label=['timestampms', 'price', 'amount', 'makerSide'])"
   ]
  },
  {
   "cell_type": "code",
   "execution_count": 3,
   "id": "4c4ccd2b",
   "metadata": {},
   "outputs": [],
   "source": [
    "sym = 'BTCUSD'\n",
    "engine = sqlalchemy.create_engine('sqlite:///'+sym+'stream.db')"
   ]
  },
  {
   "cell_type": "code",
   "execution_count": 5,
   "id": "3b3552e3",
   "metadata": {
    "scrolled": false
   },
   "outputs": [
    {
     "data": {
      "text/plain": [
       "True"
      ]
     },
     "execution_count": 5,
     "metadata": {},
     "output_type": "execute_result"
    }
   ],
   "source": [
    "ws = websocket.WebSocketApp(\n",
    "    \"wss://api.gemini.com/v1/marketdata/btcusd?trades=true\",\n",
    "    on_message=on_message)\n",
    "ws.run_forever(sslopt={\"cert_reqs\": ssl.CERT_NONE})"
   ]
  },
  {
   "cell_type": "code",
   "execution_count": 11,
   "id": "8791158a",
   "metadata": {
    "scrolled": false
   },
   "outputs": [
    {
     "data": {
      "image/png": "[encoded data removed]",
      "text/plain": [
       "<Figure size 432x288 with 1 Axes>"
      ]
     },
     "metadata": {
      "needs_background": "light"
     },
     "output_type": "display_data"
    },
    {
     "data": {
      "text/html": [
       "<div>\n",
       "<style scoped>\n",
       "    .dataframe tbody tr th:only-of-type {\n",
       "        vertical-align: middle;\n",
       "    }\n",
       "\n",
       "    .dataframe tbody tr th {\n",
       "        vertical-align: top;\n",
       "    }\n",
       "\n",
       "    .dataframe thead th {\n",
       "        text-align: right;\n",
       "    }\n",
       "</style>\n",
       "<table border=\"1\" class=\"dataframe\">\n",
       "  <thead>\n",
       "    <tr style=\"text-align: right;\">\n",
       "      <th></th>\n",
       "      <th>timestampms</th>\n",
       "      <th>price</th>\n",
       "      <th>amount</th>\n",
       "      <th>makerSide</th>\n",
       "    </tr>\n",
       "  </thead>\n",
       "  <tbody>\n",
       "    <tr>\n",
       "      <th>0</th>\n",
       "      <td>1648877113189</td>\n",
       "      <td>46582.75</td>\n",
       "      <td>0.000398</td>\n",
       "      <td>bid</td>\n",
       "    </tr>\n",
       "    <tr>\n",
       "      <th>1</th>\n",
       "      <td>1648877113189</td>\n",
       "      <td>46582.75</td>\n",
       "      <td>0.001602</td>\n",
       "      <td>bid</td>\n",
       "    </tr>\n",
       "    <tr>\n",
       "      <th>2</th>\n",
       "      <td>1648877135102</td>\n",
       "      <td>46585.42</td>\n",
       "      <td>0.000300</td>\n",
       "      <td>ask</td>\n",
       "    </tr>\n",
       "    <tr>\n",
       "      <th>3</th>\n",
       "      <td>1648877138171</td>\n",
       "      <td>46585.42</td>\n",
       "      <td>0.472565</td>\n",
       "      <td>ask</td>\n",
       "    </tr>\n",
       "    <tr>\n",
       "      <th>4</th>\n",
       "      <td>1648877138171</td>\n",
       "      <td>46585.42</td>\n",
       "      <td>0.136501</td>\n",
       "      <td>ask</td>\n",
       "    </tr>\n",
       "    <tr>\n",
       "      <th>...</th>\n",
       "      <td>...</td>\n",
       "      <td>...</td>\n",
       "      <td>...</td>\n",
       "      <td>...</td>\n",
       "    </tr>\n",
       "    <tr>\n",
       "      <th>110491</th>\n",
       "      <td>1649255844726</td>\n",
       "      <td>44300.00</td>\n",
       "      <td>0.050000</td>\n",
       "      <td>ask</td>\n",
       "    </tr>\n",
       "    <tr>\n",
       "      <th>110492</th>\n",
       "      <td>1649255844794</td>\n",
       "      <td>44300.00</td>\n",
       "      <td>0.030000</td>\n",
       "      <td>ask</td>\n",
       "    </tr>\n",
       "    <tr>\n",
       "      <th>110493</th>\n",
       "      <td>1649255844900</td>\n",
       "      <td>44300.00</td>\n",
       "      <td>0.090000</td>\n",
       "      <td>ask</td>\n",
       "    </tr>\n",
       "    <tr>\n",
       "      <th>110494</th>\n",
       "      <td>1649255844906</td>\n",
       "      <td>44300.00</td>\n",
       "      <td>0.018701</td>\n",
       "      <td>ask</td>\n",
       "    </tr>\n",
       "    <tr>\n",
       "      <th>110495</th>\n",
       "      <td>1649255844906</td>\n",
       "      <td>44300.00</td>\n",
       "      <td>0.031299</td>\n",
       "      <td>ask</td>\n",
       "    </tr>\n",
       "  </tbody>\n",
       "</table>\n",
       "<p>110496 rows × 4 columns</p>\n",
       "</div>"
      ],
      "text/plain": [
       "          timestampms     price    amount makerSide\n",
       "0       1648877113189  46582.75  0.000398       bid\n",
       "1       1648877113189  46582.75  0.001602       bid\n",
       "2       1648877135102  46585.42  0.000300       ask\n",
       "3       1648877138171  46585.42  0.472565       ask\n",
       "4       1648877138171  46585.42  0.136501       ask\n",
       "...               ...       ...       ...       ...\n",
       "110491  1649255844726  44300.00  0.050000       ask\n",
       "110492  1649255844794  44300.00  0.030000       ask\n",
       "110493  1649255844900  44300.00  0.090000       ask\n",
       "110494  1649255844906  44300.00  0.018701       ask\n",
       "110495  1649255844906  44300.00  0.031299       ask\n",
       "\n",
       "[110496 rows x 4 columns]"
      ]
     },
     "execution_count": 11,
     "metadata": {},
     "output_type": "execute_result"
    }
   ],
   "source": [
    "df = pd.read_sql(sym+'_traded', engine)\n",
    "\n",
    "df['price'].plot()\n",
    "plt.show()\n",
    "\n",
    "#colors = ['b' if x=='bid' else 'r' for x in df['makerSide'].to_list()]\n",
    "#plt.bar(df['price'], df['amount'], color = colors)\n",
    "#plt.show()\n",
    "\n",
    "df"
   ]
  },
  {
   "cell_type": "code",
   "execution_count": 22,
   "id": "27a56326",
   "metadata": {},
   "outputs": [
    {
     "data": {
      "text/plain": [
       "<sqlalchemy.engine.cursor.LegacyCursorResult at 0x29b33ed1d90>"
      ]
     },
     "execution_count": 22,
     "metadata": {},
     "output_type": "execute_result"
    }
   ],
   "source": [
    "#engine.execute('delete from '+ sym + '_traded')"
   ]
  }
 ],
 "metadata": {
  "kernelspec": {
   "display_name": "Python 3 (ipykernel)",
   "language": "python",
   "name": "python3"
  },
  "language_info": {
   "codemirror_mode": {
    "name": "ipython",
    "version": 3
   },
   "file_extension": ".py",
   "mimetype": "text/x-python",
   "name": "python",
   "nbconvert_exporter": "python",
   "pygments_lexer": "ipython3",
   "version": "3.8.12"
  }
 },
 "nbformat": 4,
 "nbformat_minor": 5
}
