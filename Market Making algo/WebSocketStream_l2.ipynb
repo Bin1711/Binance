{
 "cells": [
  {
   "cell_type": "code",
   "execution_count": 1,
   "id": "7c370b7f",
   "metadata": {},
   "outputs": [],
   "source": [
    "import ssl\n",
    "import websocket\n",
    "import _thread as thread\n",
    "import json\n",
    "\n",
    "import pandas as pd\n",
    "import sqlalchemy"
   ]
  },
  {
   "cell_type": "code",
   "execution_count": 2,
   "id": "dcd55732",
   "metadata": {},
   "outputs": [],
   "source": [
    "def create_df(msg):\n",
    "    msg = json.loads(msg)\n",
    "    df = pd.DataFrame(msg['changes'])\n",
    "    df.iloc[:, 0] = df.iloc[:, 0].astype('str')\n",
    "    df.iloc[:, 1:] = df.iloc[:, 1:].astype('float')\n",
    "    df.columns = ['side', 'price', 'volume']\n",
    "    return df\n",
    "\n",
    "def on_message(ws, message):\n",
    "    df = create_df(message)\n",
    "    try:\n",
    "        df.to_sql(sym+'_l2', engine, if_exists='fail', index=False, index_label=['side', 'price', 'volume'])\n",
    "    except:\n",
    "        pass\n",
    "    \n",
    "    df.to_sql('my_tmp_l2', engine, if_exists='replace', index=False, index_label=['side', 'price', 'volume'])\n",
    "    conn = engine.connect()\n",
    "    trans = conn.begin()\n",
    "    \n",
    "    try:\n",
    "        engine.execute('delete from '+ sym +'_l2 where price in (select price from my_tmp_l2)')\n",
    "        trans.commit()\n",
    "        \n",
    "        df.drop(df[df['volume']==0].index, inplace = True)\n",
    "        \n",
    "        df.to_sql(sym+'_l2', engine, if_exists='append', index=False, index_label=['side', 'price', 'volume'])\n",
    "    except:\n",
    "        trans.rollback()\n",
    "        raise\n",
    "\n",
    "def on_error(ws, error):\n",
    "    return\n",
    "    print(error)\n",
    "\n",
    "def on_close(ws):\n",
    "    print(\"### closed ###\")\n",
    "\n",
    "def on_open(ws):\n",
    "    def run(*args):\n",
    "        ws.send(logon_msg)\n",
    "    thread.start_new_thread(run, ())"
   ]
  },
  {
   "cell_type": "code",
   "execution_count": null,
   "id": "03e973f0",
   "metadata": {},
   "outputs": [],
   "source": [
    "sym = 'BTCUSD'\n",
    "engine = sqlalchemy.create_engine('sqlite:///'+sym+'stream.db')\n",
    "inspector = sqlalchemy.inspect(engine)\n",
    "\n",
    "if sym+'_l2' in inspector.get_table_names():\n",
    "    df1 = pd.read_sql(sym+'_l2', engine)\n",
    "    print(df1.shape)\n",
    "    engine.execute('delete from '+ sym + '_l2')\n",
    "    df1 = pd.read_sql(sym+'_l2', engine)\n",
    "    print(df1.shape)\n",
    "\n",
    "if __name__ == \"__main__\":\n",
    "    logon_msg = '{\"type\":\"subscribe\",\"subscriptions\":[{\"name\":\"l2\",\"symbols\":[\"'+sym+'\"]}]}'\n",
    "    websocket.enableTrace(False)\n",
    "    ws = websocket.WebSocketApp(\"wss://api.gemini.com/v2/marketdata\",\n",
    "                                on_message = on_message,\n",
    "                                on_error = on_error,\n",
    "                                on_close = on_close,\n",
    "                                on_open = on_open)\n",
    "    ws.on_open = on_open\n",
    "    ws.run_forever(sslopt={\"cert_reqs\": ssl.CERT_NONE})"
   ]
  }
 ],
 "metadata": {
  "kernelspec": {
   "display_name": "Python 3 (ipykernel)",
   "language": "python",
   "name": "python3"
  },
  "language_info": {
   "codemirror_mode": {
    "name": "ipython",
    "version": 3
   },
   "file_extension": ".py",
   "mimetype": "text/x-python",
   "name": "python",
   "nbconvert_exporter": "python",
   "pygments_lexer": "ipython3",
   "version": "3.8.12"
  }
 },
 "nbformat": 4,
 "nbformat_minor": 5
}
