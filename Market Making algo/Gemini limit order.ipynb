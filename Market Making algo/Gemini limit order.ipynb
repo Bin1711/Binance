{
 "cells": [
  {
   "cell_type": "code",
   "execution_count": 22,
   "id": "eec8f649",
   "metadata": {},
   "outputs": [],
   "source": [
    "import gemini"
   ]
  },
  {
   "cell_type": "code",
   "execution_count": 43,
   "id": "ef4d1a95",
   "metadata": {},
   "outputs": [],
   "source": [
    "PUBLIC_API_KEY = \"account-9Q8a9TYxfAxMU9XYcFwi\"\n",
    "PRIVATE_API_KEY = \"2BDmdJaSYm9cJqePUnzftFVUD6Mk\"\n",
    "r = gemini.PrivateClient(PUBLIC_API_KEY, PRIVATE_API_KEY, sandbox=True)"
   ]
  },
  {
   "cell_type": "code",
   "execution_count": 14,
   "id": "c4c98bad",
   "metadata": {},
   "outputs": [],
   "source": [
    "symbol = \"BTCUSD\"\n",
    "tick_size = 8\n",
    "quote_currency_price_increment = 2"
   ]
  },
  {
   "cell_type": "code",
   "execution_count": 52,
   "id": "11568a09",
   "metadata": {},
   "outputs": [
    {
     "name": "stdout",
     "output_type": "stream",
     "text": [
      "47073.71\n",
      "Maker Buy: {'order_id': '1701910781', 'id': '1701910781', 'symbol': 'btcusd', 'exchange': 'gemini', 'avg_execution_price': '0.00', 'side': 'buy', 'type': 'exchange limit', 'timestamp': '1649257326', 'timestampms': 1649257326816, 'is_live': True, 'is_cancelled': False, 'is_hidden': False, 'was_forced': False, 'executed_amount': '0', 'options': ['maker-or-cancel'], 'price': '47026.67', 'original_amount': '0.00042402', 'remaining_amount': '0.00042402'}\n"
     ]
    }
   ],
   "source": [
    "buy_size = 20\n",
    "symbol = \"BTCUSD\"\n",
    "symbol_spot_price = float(r.get_ticker(symbol)['ask'])\n",
    "print(symbol_spot_price)\n",
    "factor = 0.999\n",
    "#to set a limit order at a fixed price (ie. $55,525) set execution_price = \"55525.00\" or execution_price = str(55525.00)\n",
    "execution_price = '47026.67' #str(round(symbol_spot_price*factor,quote_currency_price_increment))\n",
    "\n",
    "#set amount to the most precise rounding (tick_size) and multiply by 0.998 for fee inclusion - if you make an order for $20.00 there should be $19.96 coin bought and $0.04 (0.20% fee)\n",
    "amount = '0.00042402' #round((buy_size*0.998)/float(execution_price),tick_size)\n",
    "\n",
    "#execute maker buy with the appropriate symbol, amount, and calculated price\n",
    "buy = r.new_order(symbol, str(amount), execution_price, \"buy\", [\"maker-or-cancel\"])\n",
    "print(f'Maker Buy: {buy}')"
   ]
  },
  {
   "cell_type": "code",
   "execution_count": 42,
   "id": "abdc78d7",
   "metadata": {},
   "outputs": [
    {
     "name": "stdout",
     "output_type": "stream",
     "text": [
      "Maker Sell: {'order_id': '1701883622', 'id': '1701883622', 'symbol': 'ltcusd', 'exchange': 'gemini', 'avg_execution_price': '0.00', 'side': 'sell', 'type': 'exchange limit', 'timestamp': '1649256132', 'timestampms': 1649256132746, 'is_live': True, 'is_cancelled': False, 'is_hidden': False, 'was_forced': False, 'executed_amount': '0', 'options': ['maker-or-cancel'], 'price': '116.06', 'original_amount': '20000', 'remaining_amount': '20000'}\n"
     ]
    }
   ],
   "source": [
    "sell_size = 20\n",
    "symbol = 'LTCUSD'\n",
    "symbol_spot_price = float(r.get_ticker(symbol)['ask'])\n",
    "factor = 1.000\n",
    "#to set a limit order at a fixed price (ie. $55,525) set execution_price = \"55525.00\" or execution_price = str(55525.00)\n",
    "execution_price = str(round(symbol_spot_price*factor,quote_currency_price_increment))\n",
    "\n",
    "#most precise rounding + *.998 for fee inclusion\n",
    "amount = 20000#round((sell_size*.998)/float(execution_price),tick_size)\n",
    "\n",
    "sell = r.new_order(symbol, str(amount), execution_price, \"sell\", [\"maker-or-cancel\"])\n",
    "print(f'Maker Sell: {sell}')"
   ]
  },
  {
   "cell_type": "code",
   "execution_count": 44,
   "id": "cd7a0b97",
   "metadata": {},
   "outputs": [
    {
     "data": {
      "text/plain": [
       "[{'type': 'exchange',\n",
       "  'currency': 'ETH',\n",
       "  'amount': '20000',\n",
       "  'available': '20000',\n",
       "  'availableForWithdrawal': '20000'},\n",
       " {'type': 'exchange',\n",
       "  'currency': 'BCH',\n",
       "  'amount': '20000',\n",
       "  'available': '20000',\n",
       "  'availableForWithdrawal': '20000'},\n",
       " {'type': 'exchange',\n",
       "  'currency': 'ZEC',\n",
       "  'amount': '20000',\n",
       "  'available': '20000',\n",
       "  'availableForWithdrawal': '20000'},\n",
       " {'type': 'exchange',\n",
       "  'currency': 'BTC',\n",
       "  'amount': '999.99957598',\n",
       "  'available': '999.99957598',\n",
       "  'availableForWithdrawal': '999.99957598'},\n",
       " {'type': 'exchange',\n",
       "  'currency': 'USD',\n",
       "  'amount': '333434.4990201142',\n",
       "  'available': '333434.49',\n",
       "  'availableForWithdrawal': '333434.49'},\n",
       " {'type': 'exchange',\n",
       "  'currency': 'LTC',\n",
       "  'amount': '17984.81524',\n",
       "  'available': '17984.81524',\n",
       "  'availableForWithdrawal': '17984.81524'}]"
      ]
     },
     "execution_count": 44,
     "metadata": {},
     "output_type": "execute_result"
    }
   ],
   "source": [
    "r.get_balance()"
   ]
  },
  {
   "cell_type": "code",
   "execution_count": 36,
   "id": "95cebf37",
   "metadata": {},
   "outputs": [
    {
     "data": {
      "text/plain": [
       "{'order_id': '1701852383',\n",
       " 'id': '1701852383',\n",
       " 'symbol': 'btcusd',\n",
       " 'exchange': 'gemini',\n",
       " 'avg_execution_price': '0.00',\n",
       " 'side': 'buy',\n",
       " 'type': 'exchange limit',\n",
       " 'timestamp': '1649254648',\n",
       " 'timestampms': 1649254648250,\n",
       " 'is_live': True,\n",
       " 'is_cancelled': False,\n",
       " 'is_hidden': False,\n",
       " 'was_forced': False,\n",
       " 'executed_amount': '0',\n",
       " 'options': ['maker-or-cancel'],\n",
       " 'price': '47026.67',\n",
       " 'original_amount': '0.00042359',\n",
       " 'remaining_amount': '0.00042359'}"
      ]
     },
     "execution_count": 36,
     "metadata": {},
     "output_type": "execute_result"
    }
   ],
   "source": [
    "r.status_of_order('1701852383')"
   ]
  },
  {
   "cell_type": "code",
   "execution_count": 31,
   "id": "6fd085a7",
   "metadata": {},
   "outputs": [
    {
     "data": {
      "text/plain": [
       "{'order_id': '1701786849',\n",
       " 'id': '1701786849',\n",
       " 'symbol': 'btcusd',\n",
       " 'exchange': 'gemini',\n",
       " 'avg_execution_price': '47073.71',\n",
       " 'side': 'sell',\n",
       " 'type': 'exchange limit',\n",
       " 'timestamp': '1649251642',\n",
       " 'timestampms': 1649251642844,\n",
       " 'is_live': False,\n",
       " 'is_cancelled': False,\n",
       " 'is_hidden': False,\n",
       " 'was_forced': False,\n",
       " 'executed_amount': '0.00042402',\n",
       " 'options': ['maker-or-cancel'],\n",
       " 'price': '47073.71',\n",
       " 'original_amount': '0.00042402',\n",
       " 'remaining_amount': '0'}"
      ]
     },
     "execution_count": 31,
     "metadata": {},
     "output_type": "execute_result"
    }
   ],
   "source": [
    "r.cancel_order('1701786849')"
   ]
  },
  {
   "cell_type": "code",
   "execution_count": 45,
   "id": "d02ffb72",
   "metadata": {},
   "outputs": [
    {
     "data": {
      "text/plain": [
       "[]"
      ]
     },
     "execution_count": 45,
     "metadata": {},
     "output_type": "execute_result"
    }
   ],
   "source": [
    "r.active_orders()"
   ]
  },
  {
   "cell_type": "code",
   "execution_count": 42,
   "id": "ba435311",
   "metadata": {
    "scrolled": true
   },
   "outputs": [
    {
     "data": {
      "text/plain": [
       "['btcusd',\n",
       " 'btcgusd',\n",
       " 'btcdai',\n",
       " 'btcgbp',\n",
       " 'btceur',\n",
       " 'btcsgd',\n",
       " 'ethbtc',\n",
       " 'ethusd',\n",
       " 'ethgusd',\n",
       " 'ethgbp',\n",
       " 'etheur',\n",
       " 'ethsgd',\n",
       " 'ethdai',\n",
       " 'bchusd',\n",
       " 'bchbtc',\n",
       " 'bcheth',\n",
       " 'ltcusd',\n",
       " 'ltcbtc',\n",
       " 'ltceth',\n",
       " 'ltcbch',\n",
       " 'zecusd',\n",
       " 'zecbtc',\n",
       " 'zeceth',\n",
       " 'zecbch',\n",
       " 'zecltc',\n",
       " 'batusd',\n",
       " 'batbtc',\n",
       " 'bateth',\n",
       " 'linkusd',\n",
       " 'linkbtc',\n",
       " 'linketh',\n",
       " 'daiusd',\n",
       " 'oxtusd',\n",
       " 'oxtbtc',\n",
       " 'oxteth',\n",
       " 'filusd',\n",
       " 'ampusd',\n",
       " 'paxgusd',\n",
       " 'compusd',\n",
       " 'mkrusd',\n",
       " 'zrxusd',\n",
       " 'kncusd',\n",
       " 'storjusd',\n",
       " 'manausd',\n",
       " 'aaveusd',\n",
       " 'snxusd',\n",
       " 'yfiusd',\n",
       " 'umausd',\n",
       " 'balusd',\n",
       " 'crvusd',\n",
       " 'renusd',\n",
       " 'uniusd',\n",
       " 'enjusd',\n",
       " 'bntusd',\n",
       " '1inchusd',\n",
       " 'sklusd',\n",
       " 'grtusd',\n",
       " 'lrcusd',\n",
       " 'sandusd',\n",
       " 'cubeusd',\n",
       " 'lptusd',\n",
       " 'bondusd',\n",
       " 'maticusd',\n",
       " 'injusd',\n",
       " 'sushiusd',\n",
       " 'dogeusd',\n",
       " 'api3usd',\n",
       " 'mirusd',\n",
       " 'ctxusd',\n",
       " 'alcxusd',\n",
       " 'ankrusd',\n",
       " 'ftmusd',\n",
       " 'xtzusd',\n",
       " 'axsusd',\n",
       " 'usdcusd',\n",
       " 'slpusd',\n",
       " 'lunausd',\n",
       " 'ustusd',\n",
       " 'mco2usd',\n",
       " 'dogebtc',\n",
       " 'dogeeth',\n",
       " 'cvcusd',\n",
       " 'gusdsgd',\n",
       " 'spellusd',\n",
       " 'mimusd',\n",
       " 'galausd',\n",
       " 'mcusd',\n",
       " 'ensusd',\n",
       " 'elonusd',\n",
       " 'ashusd',\n",
       " 'wcfgusd',\n",
       " 'rareusd',\n",
       " 'radusd',\n",
       " 'qntusd',\n",
       " 'maskusd',\n",
       " 'fetusd',\n",
       " 'audiousd',\n",
       " 'nmrusd',\n",
       " 'rlyusd',\n",
       " 'indexusd',\n",
       " 'rndrusd',\n",
       " 'shibusd',\n",
       " 'ldousd',\n",
       " 'kp3rusd',\n",
       " 'tokeusd',\n",
       " 'solusd',\n",
       " 'rayusd',\n",
       " 'sbrusd',\n",
       " 'apeusd',\n",
       " 'rbnusd',\n",
       " 'fxsusd',\n",
       " 'mplusd',\n",
       " 'dpiusd',\n",
       " 'lqtyusd',\n",
       " 'lusdusd',\n",
       " 'fraxusd',\n",
       " 'efilfil',\n",
       " 'gusdusd']"
      ]
     },
     "execution_count": 42,
     "metadata": {},
     "output_type": "execute_result"
    }
   ],
   "source": [
    "r.symbols()"
   ]
  },
  {
   "cell_type": "code",
   "execution_count": 51,
   "id": "62c3aad6",
   "metadata": {},
   "outputs": [
    {
     "data": {
      "text/plain": [
       "{'bid': '0.004558',\n",
       " 'ask': '0.0046017',\n",
       " 'volume': {'LINK': '77.241796',\n",
       "  'ETH': '0.3550029036108',\n",
       "  'timestamp': 1650039900000},\n",
       " 'last': '0.0046051'}"
      ]
     },
     "execution_count": 51,
     "metadata": {},
     "output_type": "execute_result"
    }
   ],
   "source": [
    "r.get_ticker('linketh')"
   ]
  },
  {
   "cell_type": "code",
   "execution_count": 46,
   "id": "6b532716",
   "metadata": {},
   "outputs": [],
   "source": [
    "PUBLIC_API_KEY = \"account-dnvGW5r4z8mY9ATNERjU\"\n",
    "PRIVATE_API_KEY = \"BWvsWYXsKNcpF4i78Ni3Sqio6kY\"\n",
    "r = gemini.PrivateClient(PUBLIC_API_KEY, PRIVATE_API_KEY)"
   ]
  }
 ],
 "metadata": {
  "kernelspec": {
   "display_name": "Python 3 (ipykernel)",
   "language": "python",
   "name": "python3"
  },
  "language_info": {
   "codemirror_mode": {
    "name": "ipython",
    "version": 3
   },
   "file_extension": ".py",
   "mimetype": "text/x-python",
   "name": "python",
   "nbconvert_exporter": "python",
   "pygments_lexer": "ipython3",
   "version": "3.8.12"
  }
 },
 "nbformat": 4,
 "nbformat_minor": 5
}
