{
 "cells": [
  {
   "cell_type": "code",
   "execution_count": 1,
   "id": "e38b0415",
   "metadata": {},
   "outputs": [],
   "source": [
    "import dill\n",
    "import os, sys\n",
    "sys.path.append(os.path.dirname(os.path.dirname(os.path.abspath('upload_alpha.py'))))\n",
    "\n",
    "import json\n",
    "\n",
    "import gemini\n",
    "\n",
    "import pandas as pd\n",
    "import numpy as np\n",
    "from rsome import ro\n",
    "from rsome import grb_solver as grb"
   ]
  },
  {
   "cell_type": "code",
   "execution_count": 2,
   "id": "463eca12",
   "metadata": {},
   "outputs": [],
   "source": [
    "target_weight = {'USDCUSDT': 0.1,\n",
    "                 'BCHUSDT' : 0.1,\n",
    "                 'BTCUSDT' : 0.1,\n",
    "                 'DOGEUSDT': 0.1,\n",
    "                 'ETHUSDT' : 0.1,\n",
    "                 'LTCUSDT' : 0.1,\n",
    "                 'CRVUSDT' : 0.1,\n",
    "                 'FTMUSDT' : 0.1,\n",
    "                 'LINKUSDT': 0.1,\n",
    "                 'SOLUSDT' : 0.1}"
   ]
  },
  {
   "cell_type": "code",
   "execution_count": 3,
   "id": "ada25919",
   "metadata": {},
   "outputs": [],
   "source": [
    "curr_ammount = {'USDCUSDT': 10,\n",
    "                'BCHUSDT' : 0,\n",
    "                'BTCUSDT' : 0,\n",
    "                'DOGEUSDT': 0,\n",
    "                'ETHUSDT' : 0,\n",
    "                'LTCUSDT' : 0,\n",
    "                'CRVUSDT' : 0,\n",
    "                'FTMUSDT' : 0,\n",
    "                'LINKUSDT': 0,\n",
    "                'SOLUSDT' : 0}"
   ]
  },
  {
   "cell_type": "code",
   "execution_count": 4,
   "id": "f7abdb45",
   "metadata": {},
   "outputs": [],
   "source": [
    "with open('curr_ammount.json', 'w') as f:\n",
    "    json.dump(curr_ammount, f)"
   ]
  },
  {
   "cell_type": "code",
   "execution_count": 5,
   "id": "21711b3c",
   "metadata": {},
   "outputs": [
    {
     "data": {
      "text/plain": [
       "{'USDCUSDT': 10,\n",
       " 'BCHUSDT': 0,\n",
       " 'BTCUSDT': 0,\n",
       " 'DOGEUSDT': 0,\n",
       " 'ETHUSDT': 0,\n",
       " 'LTCUSDT': 0,\n",
       " 'CRVUSDT': 0,\n",
       " 'FTMUSDT': 0,\n",
       " 'LINKUSDT': 0,\n",
       " 'SOLUSDT': 0}"
      ]
     },
     "execution_count": 5,
     "metadata": {},
     "output_type": "execute_result"
    }
   ],
   "source": [
    "with open('curr_ammount.json', 'r') as f:\n",
    "    curr_ammount = json.load(f)\n",
    "curr_ammount"
   ]
  },
  {
   "cell_type": "code",
   "execution_count": 6,
   "id": "78d9a9b2",
   "metadata": {},
   "outputs": [],
   "source": [
    "PUBLIC_API_KEY = \"account-dnvGW5r4z8mY9ATNERjU\"\n",
    "PRIVATE_API_KEY = \"BWvsWYXsKNcpF4i78Ni3Sqio6kY\"\n",
    "Client = gemini.PrivateClient(PUBLIC_API_KEY, PRIVATE_API_KEY)"
   ]
  },
  {
   "cell_type": "code",
   "execution_count": 7,
   "id": "67d5ba6f",
   "metadata": {},
   "outputs": [],
   "source": [
    "syms = ['USDCUSDT', 'BCHUSDT', 'BTCUSDT', 'DOGEUSDT', 'ETHUSDT', 'LTCUSDT', 'CRVUSDT', 'FTMUSDT', 'LINKUSDT', 'SOLUSDT']"
   ]
  },
  {
   "cell_type": "code",
   "execution_count": 8,
   "id": "93d8334a",
   "metadata": {},
   "outputs": [
    {
     "data": {
      "text/plain": [
       "['usd', 'bch', 'btc', 'doge', 'eth', 'ltc', 'crv', 'ftm', 'link', 'sol']"
      ]
     },
     "execution_count": 8,
     "metadata": {},
     "output_type": "execute_result"
    }
   ],
   "source": [
    "new_syms = ['usd'] + [x.split('USDT')[0].lower() for x in syms if x!='USDCUSDT']\n",
    "new_syms"
   ]
  },
  {
   "cell_type": "code",
   "execution_count": 9,
   "id": "3f1b0476",
   "metadata": {},
   "outputs": [],
   "source": [
    "N = len(syms)"
   ]
  },
  {
   "cell_type": "code",
   "execution_count": 10,
   "id": "c39a6fc2",
   "metadata": {},
   "outputs": [],
   "source": [
    "tradable = set(Client.symbols())\n",
    "pairs = []\n",
    "for i in range(N-1):\n",
    "    for j in range(i+1, N):\n",
    "        from_ = new_syms[i]\n",
    "        to_ = new_syms[j]\n",
    "        if from_+to_ in tradable:\n",
    "            pairs.append((from_, to_))\n",
    "        elif to_+from_ in tradable:\n",
    "            pairs.append((to_, from_))"
   ]
  },
  {
   "cell_type": "code",
   "execution_count": 11,
   "id": "e8c57efb",
   "metadata": {},
   "outputs": [],
   "source": [
    "data = pd.DataFrame(index=new_syms, columns=new_syms)\n",
    "for from_, to_ in pairs:\n",
    "    market_data = Client.get_ticker(from_+to_)\n",
    "    data.loc[from_, to_] = float(market_data['bid'])\n",
    "    data.loc[to_, from_] = 1/float(market_data['ask'])"
   ]
  },
  {
   "cell_type": "code",
   "execution_count": 19,
   "id": "b4c8d591",
   "metadata": {},
   "outputs": [],
   "source": [
    "INFINITY = np.inf\n",
    "EPSILON = 1e-10\n",
    "\n",
    "na_matrix = data*INFINITY\n",
    "na_matrix.fillna(0, inplace = True)\n",
    "na_matrix = na_matrix.values\n",
    "\n",
    "data.fillna(1, inplace = True)\n",
    "\n",
    "curr_ammount_vector = np.array([curr_ammount[x] for x in syms])\n",
    "target_weight_vector = np.array([target_weight[x] for x in syms])"
   ]
  },
  {
   "cell_type": "code",
   "execution_count": 20,
   "id": "5fe13b98",
   "metadata": {},
   "outputs": [],
   "source": [
    "model = ro.Model('minimize fee')\n",
    "\n",
    "X = model.dvar((N, N))\n",
    "Y = model.dvar(N)\n",
    "\n",
    "model.min(X.sum(axis=1) @ data['usd'].values)\n",
    "\n",
    "model.st(abs(Y * data['usd'].values - target_weight_vector * (Y @ data['usd'].values)) <= EPSILON)\n",
    "\n",
    "model.st(Y == curr_ammount_vector - X.sum(axis=1) + (X * data.values).sum(axis=0))\n",
    "model.st(X.sum(axis=1) <= curr_ammount_vector)\n",
    "\n",
    "model.st(X <= na_matrix)\n",
    "model.st(X >= 0)"
   ]
  },
  {
   "cell_type": "code",
   "execution_count": 21,
   "id": "a6b8c5d6",
   "metadata": {},
   "outputs": [
    {
     "name": "stdout",
     "output_type": "stream",
     "text": [
      "Being solved by Gurobi...\n",
      "Solution status: 2\n",
      "Running time: 0.0215s\n"
     ]
    }
   ],
   "source": [
    "model.solve(grb)"
   ]
  },
  {
   "cell_type": "code",
   "execution_count": 24,
   "id": "dbc05b2a",
   "metadata": {},
   "outputs": [
    {
     "data": {
      "text/plain": [
       "array([[0.        , 0.99987125, 0.99945363, 0.99980395, 0.99947317,\n",
       "        0.99977573, 1.00059359, 0.99995324, 1.00187864, 0.99998403],\n",
       "       [0.        , 0.        , 0.        , 0.        , 0.        ,\n",
       "        0.        , 0.        , 0.        , 0.        , 0.        ],\n",
       "       [0.        , 0.        , 0.        , 0.        , 0.        ,\n",
       "        0.        , 0.        , 0.        , 0.        , 0.        ],\n",
       "       [0.        , 0.        , 0.        , 0.        , 0.        ,\n",
       "        0.        , 0.        , 0.        , 0.        , 0.        ],\n",
       "       [0.        , 0.        , 0.        , 0.        , 0.        ,\n",
       "        0.        , 0.        , 0.        , 0.        , 0.        ],\n",
       "       [0.        , 0.        , 0.        , 0.        , 0.        ,\n",
       "        0.        , 0.        , 0.        , 0.        , 0.        ],\n",
       "       [0.        , 0.        , 0.        , 0.        , 0.        ,\n",
       "        0.        , 0.        , 0.        , 0.        , 0.        ],\n",
       "       [0.        , 0.        , 0.        , 0.        , 0.        ,\n",
       "        0.        , 0.        , 0.        , 0.        , 0.        ],\n",
       "       [0.        , 0.        , 0.        , 0.        , 0.        ,\n",
       "        0.        , 0.        , 0.        , 0.        , 0.        ],\n",
       "       [0.        , 0.        , 0.        , 0.        , 0.        ,\n",
       "        0.        , 0.        , 0.        , 0.        , 0.        ]])"
      ]
     },
     "execution_count": 24,
     "metadata": {},
     "output_type": "execute_result"
    }
   ],
   "source": [
    "X.get()"
   ]
  },
  {
   "cell_type": "code",
   "execution_count": 16,
   "id": "2cf50e95",
   "metadata": {},
   "outputs": [
    {
     "data": {
      "text/html": [
       "<div>\n",
       "<style scoped>\n",
       "    .dataframe tbody tr th:only-of-type {\n",
       "        vertical-align: middle;\n",
       "    }\n",
       "\n",
       "    .dataframe tbody tr th {\n",
       "        vertical-align: top;\n",
       "    }\n",
       "\n",
       "    .dataframe thead th {\n",
       "        text-align: right;\n",
       "    }\n",
       "</style>\n",
       "<table border=\"1\" class=\"dataframe\">\n",
       "  <thead>\n",
       "    <tr style=\"text-align: right;\">\n",
       "      <th></th>\n",
       "      <th>usd</th>\n",
       "      <th>bch</th>\n",
       "      <th>btc</th>\n",
       "      <th>doge</th>\n",
       "      <th>eth</th>\n",
       "      <th>ltc</th>\n",
       "      <th>crv</th>\n",
       "      <th>ftm</th>\n",
       "      <th>link</th>\n",
       "      <th>sol</th>\n",
       "    </tr>\n",
       "  </thead>\n",
       "  <tbody>\n",
       "    <tr>\n",
       "      <th>usd</th>\n",
       "      <td>1.00000</td>\n",
       "      <td>0.003136</td>\n",
       "      <td>0.000026</td>\n",
       "      <td>7.391529</td>\n",
       "      <td>0.000343</td>\n",
       "      <td>0.009385</td>\n",
       "      <td>0.475873</td>\n",
       "      <td>0.925669</td>\n",
       "      <td>0.075188</td>\n",
       "      <td>0.010284</td>\n",
       "    </tr>\n",
       "    <tr>\n",
       "      <th>bch</th>\n",
       "      <td>318.65000</td>\n",
       "      <td>1.000000</td>\n",
       "      <td>0.008180</td>\n",
       "      <td>1.000000</td>\n",
       "      <td>0.108700</td>\n",
       "      <td>2.439024</td>\n",
       "      <td>1.000000</td>\n",
       "      <td>1.000000</td>\n",
       "      <td>1.000000</td>\n",
       "      <td>1.000000</td>\n",
       "    </tr>\n",
       "    <tr>\n",
       "      <th>btc</th>\n",
       "      <td>38949.59000</td>\n",
       "      <td>121.951220</td>\n",
       "      <td>1.000000</td>\n",
       "      <td>287356.321839</td>\n",
       "      <td>13.352918</td>\n",
       "      <td>364.963504</td>\n",
       "      <td>1.000000</td>\n",
       "      <td>1.000000</td>\n",
       "      <td>2926.972047</td>\n",
       "      <td>1.000000</td>\n",
       "    </tr>\n",
       "    <tr>\n",
       "      <th>doge</th>\n",
       "      <td>0.13521</td>\n",
       "      <td>1.000000</td>\n",
       "      <td>0.000003</td>\n",
       "      <td>1.000000</td>\n",
       "      <td>0.000046</td>\n",
       "      <td>1.000000</td>\n",
       "      <td>1.000000</td>\n",
       "      <td>1.000000</td>\n",
       "      <td>1.000000</td>\n",
       "      <td>1.000000</td>\n",
       "    </tr>\n",
       "    <tr>\n",
       "      <th>eth</th>\n",
       "      <td>2915.94000</td>\n",
       "      <td>9.025271</td>\n",
       "      <td>0.074850</td>\n",
       "      <td>21547.080371</td>\n",
       "      <td>1.000000</td>\n",
       "      <td>27.322404</td>\n",
       "      <td>1.000000</td>\n",
       "      <td>1.000000</td>\n",
       "      <td>217.244900</td>\n",
       "      <td>1.000000</td>\n",
       "    </tr>\n",
       "    <tr>\n",
       "      <th>ltc</th>\n",
       "      <td>106.49000</td>\n",
       "      <td>0.240000</td>\n",
       "      <td>0.002730</td>\n",
       "      <td>1.000000</td>\n",
       "      <td>0.036400</td>\n",
       "      <td>1.000000</td>\n",
       "      <td>1.000000</td>\n",
       "      <td>1.000000</td>\n",
       "      <td>1.000000</td>\n",
       "      <td>1.000000</td>\n",
       "    </tr>\n",
       "    <tr>\n",
       "      <th>crv</th>\n",
       "      <td>2.09850</td>\n",
       "      <td>1.000000</td>\n",
       "      <td>1.000000</td>\n",
       "      <td>1.000000</td>\n",
       "      <td>1.000000</td>\n",
       "      <td>1.000000</td>\n",
       "      <td>1.000000</td>\n",
       "      <td>1.000000</td>\n",
       "      <td>1.000000</td>\n",
       "      <td>1.000000</td>\n",
       "    </tr>\n",
       "    <tr>\n",
       "      <th>ftm</th>\n",
       "      <td>1.07950</td>\n",
       "      <td>1.000000</td>\n",
       "      <td>1.000000</td>\n",
       "      <td>1.000000</td>\n",
       "      <td>1.000000</td>\n",
       "      <td>1.000000</td>\n",
       "      <td>1.000000</td>\n",
       "      <td>1.000000</td>\n",
       "      <td>1.000000</td>\n",
       "      <td>1.000000</td>\n",
       "    </tr>\n",
       "    <tr>\n",
       "      <th>link</th>\n",
       "      <td>13.26461</td>\n",
       "      <td>1.000000</td>\n",
       "      <td>0.000340</td>\n",
       "      <td>1.000000</td>\n",
       "      <td>0.004549</td>\n",
       "      <td>1.000000</td>\n",
       "      <td>1.000000</td>\n",
       "      <td>1.000000</td>\n",
       "      <td>1.000000</td>\n",
       "      <td>1.000000</td>\n",
       "    </tr>\n",
       "    <tr>\n",
       "      <th>sol</th>\n",
       "      <td>97.16300</td>\n",
       "      <td>1.000000</td>\n",
       "      <td>1.000000</td>\n",
       "      <td>1.000000</td>\n",
       "      <td>1.000000</td>\n",
       "      <td>1.000000</td>\n",
       "      <td>1.000000</td>\n",
       "      <td>1.000000</td>\n",
       "      <td>1.000000</td>\n",
       "      <td>1.000000</td>\n",
       "    </tr>\n",
       "  </tbody>\n",
       "</table>\n",
       "</div>"
      ],
      "text/plain": [
       "              usd         bch       btc           doge        eth         ltc  \\\n",
       "usd       1.00000    0.003136  0.000026       7.391529   0.000343    0.009385   \n",
       "bch     318.65000    1.000000  0.008180       1.000000   0.108700    2.439024   \n",
       "btc   38949.59000  121.951220  1.000000  287356.321839  13.352918  364.963504   \n",
       "doge      0.13521    1.000000  0.000003       1.000000   0.000046    1.000000   \n",
       "eth    2915.94000    9.025271  0.074850   21547.080371   1.000000   27.322404   \n",
       "ltc     106.49000    0.240000  0.002730       1.000000   0.036400    1.000000   \n",
       "crv       2.09850    1.000000  1.000000       1.000000   1.000000    1.000000   \n",
       "ftm       1.07950    1.000000  1.000000       1.000000   1.000000    1.000000   \n",
       "link     13.26461    1.000000  0.000340       1.000000   0.004549    1.000000   \n",
       "sol      97.16300    1.000000  1.000000       1.000000   1.000000    1.000000   \n",
       "\n",
       "           crv       ftm         link       sol  \n",
       "usd   0.475873  0.925669     0.075188  0.010284  \n",
       "bch   1.000000  1.000000     1.000000  1.000000  \n",
       "btc   1.000000  1.000000  2926.972047  1.000000  \n",
       "doge  1.000000  1.000000     1.000000  1.000000  \n",
       "eth   1.000000  1.000000   217.244900  1.000000  \n",
       "ltc   1.000000  1.000000     1.000000  1.000000  \n",
       "crv   1.000000  1.000000     1.000000  1.000000  \n",
       "ftm   1.000000  1.000000     1.000000  1.000000  \n",
       "link  1.000000  1.000000     1.000000  1.000000  \n",
       "sol   1.000000  1.000000     1.000000  1.000000  "
      ]
     },
     "execution_count": 16,
     "metadata": {},
     "output_type": "execute_result"
    }
   ],
   "source": [
    "data"
   ]
  }
 ],
 "metadata": {
  "kernelspec": {
   "display_name": "Python 3 (ipykernel)",
   "language": "python",
   "name": "python3"
  },
  "language_info": {
   "codemirror_mode": {
    "name": "ipython",
    "version": 3
   },
   "file_extension": ".py",
   "mimetype": "text/x-python",
   "name": "python",
   "nbconvert_exporter": "python",
   "pygments_lexer": "ipython3",
   "version": "3.8.12"
  }
 },
 "nbformat": 4,
 "nbformat_minor": 5
}
